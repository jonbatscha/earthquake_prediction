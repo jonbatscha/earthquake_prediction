{
 "cells": [
  {
   "cell_type": "markdown",
   "metadata": {},
   "source": [
    "# LANL EARTHQUAKE PROJECT"
   ]
  },
  {
   "cell_type": "markdown",
   "metadata": {},
   "source": [
    "### background"
   ]
  },
  {
   "cell_type": "markdown",
   "metadata": {},
   "source": [
    "This was a project we put together for the following kaggle competition: https://www.kaggle.com/c/LANL-Earthquake-Prediction\n",
    "\n",
    "As we were past the deadline, we viewed it more as preparation for future kaggle competitions"
   ]
  },
  {
   "cell_type": "markdown",
   "metadata": {},
   "source": [
    "## packages and parameters"
   ]
  },
  {
   "cell_type": "code",
   "execution_count": 1,
   "metadata": {},
   "outputs": [],
   "source": [
    "import numpy as np \n",
    "import pandas as pd\n",
    "import os\n",
    "%matplotlib inline\n",
    "\n",
    "import zipfile\n",
    "import pickle\n",
    "import random\n",
    "from scipy import stats\n",
    "from scipy import fftpack\n",
    "\n",
    "from xgboost import XGBRegressor\n",
    "import xgboost\n",
    "import seaborn as sns\n",
    "import matplotlib.pyplot as plt # may remove later\n",
    "\n",
    "from sklearn.model_selection import train_test_split\n",
    "from pathlib import Path\n",
    "\n",
    "import heapq"
   ]
  },
  {
   "cell_type": "markdown",
   "metadata": {},
   "source": [
    "#### set project parameters"
   ]
  },
  {
   "cell_type": "code",
   "execution_count": 2,
   "metadata": {},
   "outputs": [],
   "source": [
    "# edit\n",
    "PROJECT_DIR = Path('/notebooks/storage/earthquake')"
   ]
  },
  {
   "cell_type": "markdown",
   "metadata": {},
   "source": [
    "#### change `pwd` to `PROJECT_DIR`"
   ]
  },
  {
   "cell_type": "code",
   "execution_count": 3,
   "metadata": {},
   "outputs": [
    {
     "name": "stdout",
     "output_type": "stream",
     "text": [
      "/storage/earthquake\n",
      "['test_samples.pickle', 'train.csv', 'leaked_samples_eng.pickle', 'consecutive_samples.pickle', 'submission.csv', 'model_xgb.pickle', 'refactor.ipynb', 'test_samples_eng.pickle', 'leaked_samples.pickle', 'model_4096_all.pickle', 'train.pickle', '.ipynb_checkpoints', 'test']\n"
     ]
    }
   ],
   "source": [
    "os.chdir(PROJECT_DIR)\n",
    "\n",
    "print(os.getcwd())\n",
    "print(os.listdir())"
   ]
  },
  {
   "cell_type": "markdown",
   "metadata": {},
   "source": [
    "## download/unzip/load data from kaggle\n",
    "- run once -> comment out\n",
    "- ADD: NOTE ON WHAT HAPPENS IF IT IS RUN TWICE, REPLACEMENT OR COLLISION ????"
   ]
  },
  {
   "cell_type": "code",
   "execution_count": null,
   "metadata": {},
   "outputs": [],
   "source": [
    "# %%time\n",
    "# !kaggle competitions download LANL-Earthquake-Prediction"
   ]
  },
  {
   "cell_type": "markdown",
   "metadata": {},
   "source": [
    "#### unzip kaggle files\n",
    "NOTE: run once -> comment out"
   ]
  },
  {
   "cell_type": "code",
   "execution_count": null,
   "metadata": {},
   "outputs": [],
   "source": [
    "# %%time\n",
    "\n",
    "# train_zip='train.csv.zip'\n",
    "# test_zip='test.zip'\n",
    "# earthquake_dir='.'\n",
    "# test_dir='./test'\n",
    "\n",
    "# zip_ref=zipfile.ZipFile(train_zip,'r')\n",
    "# zip_ref.extractall(earthquake_dir)\n",
    "# zip_ref.close()\n",
    "\n",
    "# zip_ref=zipfile.ZipFile(test_zip,'r')\n",
    "# zip_ref.extractall(test_dir)\n",
    "# zip_ref.close()"
   ]
  },
  {
   "cell_type": "markdown",
   "metadata": {},
   "source": [
    "#### read train csv -> convert to dataframe -> pickle\n",
    "NOTE: run once -> pickle `train` -> comment out\n",
    "\n",
    "NOTE: this notebook makes heavy use of the `pickle` library, which allows us to save environment objects as files and pick up where we left off"
   ]
  },
  {
   "cell_type": "code",
   "execution_count": null,
   "metadata": {},
   "outputs": [],
   "source": [
    "# %%time \n",
    "\n",
    "# train = pd.read_csv('./train.csv', dtype={\"acoustic_data\": np.int16, \"time_to_failure\": np.float32})"
   ]
  },
  {
   "cell_type": "markdown",
   "metadata": {},
   "source": [
    "#### pickle `train` dataframe\n",
    "- NOTE: run once then comment out\n",
    "- CAUTION !!! code below overwrites `train`!!!"
   ]
  },
  {
   "cell_type": "code",
   "execution_count": null,
   "metadata": {},
   "outputs": [],
   "source": [
    "# %%time\n",
    "\n",
    "# with open('/notebooks/storage/earthquake/train.pickle','wb') as f:\n",
    "#     pickle.dump(train,f,pickle.HIGHEST_PROTOCOL)"
   ]
  },
  {
   "cell_type": "markdown",
   "metadata": {},
   "source": [
    "#### delete `train` dataframe from ram"
   ]
  },
  {
   "cell_type": "code",
   "execution_count": null,
   "metadata": {},
   "outputs": [],
   "source": [
    "del train"
   ]
  },
  {
   "cell_type": "markdown",
   "metadata": {},
   "source": [
    "#### load `train` dataframe"
   ]
  },
  {
   "cell_type": "code",
   "execution_count": 4,
   "metadata": {},
   "outputs": [
    {
     "name": "stdout",
     "output_type": "stream",
     "text": [
      "CPU times: user 1.48 s, sys: 5.81 s, total: 7.29 s\n",
      "Wall time: 12.5 s\n"
     ]
    }
   ],
   "source": [
    "%%time\n",
    "\n",
    "with open(PROJECT_DIR/'train.pickle','rb') as f:\n",
    "    train = pickle.load(f)\n",
    "\n",
    "train.tail()"
   ]
  },
  {
   "cell_type": "markdown",
   "metadata": {},
   "source": [
    "## data"
   ]
  },
  {
   "cell_type": "markdown",
   "metadata": {},
   "source": [
    "The general goal of the competition is to predict future earthquakes given seismograph data\n",
    "\n",
    "The training data cointains a single sequence of 630M or so readings, each one indicating both a seismograph reading (`acoustic_data`) and time until the next earthquake (`time_to_failure`).\n",
    "\n",
    "A picture is worth a thousand words, so below are som figures:"
   ]
  },
  {
   "cell_type": "markdown",
   "metadata": {},
   "source": [
    "#### train data frame and summary stats"
   ]
  },
  {
   "cell_type": "code",
   "execution_count": 5,
   "metadata": {},
   "outputs": [
    {
     "data": {
      "text/html": [
       "<div>\n",
       "<style scoped>\n",
       "    .dataframe tbody tr th:only-of-type {\n",
       "        vertical-align: middle;\n",
       "    }\n",
       "\n",
       "    .dataframe tbody tr th {\n",
       "        vertical-align: top;\n",
       "    }\n",
       "\n",
       "    .dataframe thead th {\n",
       "        text-align: right;\n",
       "    }\n",
       "</style>\n",
       "<table border=\"1\" class=\"dataframe\">\n",
       "  <thead>\n",
       "    <tr style=\"text-align: right;\">\n",
       "      <th></th>\n",
       "      <th>acoustic_data</th>\n",
       "      <th>time_to_failure</th>\n",
       "    </tr>\n",
       "  </thead>\n",
       "  <tbody>\n",
       "    <tr>\n",
       "      <th>0</th>\n",
       "      <td>12</td>\n",
       "      <td>1.4691</td>\n",
       "    </tr>\n",
       "    <tr>\n",
       "      <th>1</th>\n",
       "      <td>6</td>\n",
       "      <td>1.4691</td>\n",
       "    </tr>\n",
       "    <tr>\n",
       "      <th>2</th>\n",
       "      <td>8</td>\n",
       "      <td>1.4691</td>\n",
       "    </tr>\n",
       "    <tr>\n",
       "      <th>3</th>\n",
       "      <td>5</td>\n",
       "      <td>1.4691</td>\n",
       "    </tr>\n",
       "    <tr>\n",
       "      <th>4</th>\n",
       "      <td>8</td>\n",
       "      <td>1.4691</td>\n",
       "    </tr>\n",
       "  </tbody>\n",
       "</table>\n",
       "</div>"
      ],
      "text/plain": [
       "   acoustic_data  time_to_failure\n",
       "0             12           1.4691\n",
       "1              6           1.4691\n",
       "2              8           1.4691\n",
       "3              5           1.4691\n",
       "4              8           1.4691"
      ]
     },
     "execution_count": 5,
     "metadata": {},
     "output_type": "execute_result"
    }
   ],
   "source": [
    "train.head()"
   ]
  },
  {
   "cell_type": "code",
   "execution_count": 6,
   "metadata": {},
   "outputs": [
    {
     "data": {
      "text/html": [
       "<div>\n",
       "<style scoped>\n",
       "    .dataframe tbody tr th:only-of-type {\n",
       "        vertical-align: middle;\n",
       "    }\n",
       "\n",
       "    .dataframe tbody tr th {\n",
       "        vertical-align: top;\n",
       "    }\n",
       "\n",
       "    .dataframe thead th {\n",
       "        text-align: right;\n",
       "    }\n",
       "</style>\n",
       "<table border=\"1\" class=\"dataframe\">\n",
       "  <thead>\n",
       "    <tr style=\"text-align: right;\">\n",
       "      <th></th>\n",
       "      <th>acoustic_data</th>\n",
       "      <th>time_to_failure</th>\n",
       "    </tr>\n",
       "  </thead>\n",
       "  <tbody>\n",
       "    <tr>\n",
       "      <th>629145475</th>\n",
       "      <td>7</td>\n",
       "      <td>9.759795</td>\n",
       "    </tr>\n",
       "    <tr>\n",
       "      <th>629145476</th>\n",
       "      <td>9</td>\n",
       "      <td>9.759795</td>\n",
       "    </tr>\n",
       "    <tr>\n",
       "      <th>629145477</th>\n",
       "      <td>10</td>\n",
       "      <td>9.759795</td>\n",
       "    </tr>\n",
       "    <tr>\n",
       "      <th>629145478</th>\n",
       "      <td>6</td>\n",
       "      <td>9.759795</td>\n",
       "    </tr>\n",
       "    <tr>\n",
       "      <th>629145479</th>\n",
       "      <td>5</td>\n",
       "      <td>9.759795</td>\n",
       "    </tr>\n",
       "  </tbody>\n",
       "</table>\n",
       "</div>"
      ],
      "text/plain": [
       "           acoustic_data  time_to_failure\n",
       "629145475              7         9.759795\n",
       "629145476              9         9.759795\n",
       "629145477             10         9.759795\n",
       "629145478              6         9.759795\n",
       "629145479              5         9.759795"
      ]
     },
     "execution_count": 6,
     "metadata": {},
     "output_type": "execute_result"
    }
   ],
   "source": [
    "train.tail()"
   ]
  },
  {
   "cell_type": "code",
   "execution_count": 7,
   "metadata": {},
   "outputs": [
    {
     "name": "stdout",
     "output_type": "stream",
     "text": [
      "CPU times: user 40.7 s, sys: 18.4 s, total: 59.1 s\n",
      "Wall time: 59 s\n"
     ]
    },
    {
     "data": {
      "text/html": [
       "<div>\n",
       "<style scoped>\n",
       "    .dataframe tbody tr th:only-of-type {\n",
       "        vertical-align: middle;\n",
       "    }\n",
       "\n",
       "    .dataframe tbody tr th {\n",
       "        vertical-align: top;\n",
       "    }\n",
       "\n",
       "    .dataframe thead th {\n",
       "        text-align: right;\n",
       "    }\n",
       "</style>\n",
       "<table border=\"1\" class=\"dataframe\">\n",
       "  <thead>\n",
       "    <tr style=\"text-align: right;\">\n",
       "      <th></th>\n",
       "      <th>acoustic_data</th>\n",
       "      <th>time_to_failure</th>\n",
       "    </tr>\n",
       "  </thead>\n",
       "  <tbody>\n",
       "    <tr>\n",
       "      <th>count</th>\n",
       "      <td>6.291455e+08</td>\n",
       "      <td>6.291455e+08</td>\n",
       "    </tr>\n",
       "    <tr>\n",
       "      <th>mean</th>\n",
       "      <td>4.519468e+00</td>\n",
       "      <td>4.477084e-01</td>\n",
       "    </tr>\n",
       "    <tr>\n",
       "      <th>std</th>\n",
       "      <td>1.073571e+01</td>\n",
       "      <td>2.612789e+00</td>\n",
       "    </tr>\n",
       "    <tr>\n",
       "      <th>min</th>\n",
       "      <td>-5.515000e+03</td>\n",
       "      <td>9.550396e-05</td>\n",
       "    </tr>\n",
       "    <tr>\n",
       "      <th>25%</th>\n",
       "      <td>2.000000e+00</td>\n",
       "      <td>2.625997e+00</td>\n",
       "    </tr>\n",
       "    <tr>\n",
       "      <th>50%</th>\n",
       "      <td>5.000000e+00</td>\n",
       "      <td>5.349798e+00</td>\n",
       "    </tr>\n",
       "    <tr>\n",
       "      <th>75%</th>\n",
       "      <td>7.000000e+00</td>\n",
       "      <td>8.173395e+00</td>\n",
       "    </tr>\n",
       "    <tr>\n",
       "      <th>max</th>\n",
       "      <td>5.444000e+03</td>\n",
       "      <td>1.610740e+01</td>\n",
       "    </tr>\n",
       "  </tbody>\n",
       "</table>\n",
       "</div>"
      ],
      "text/plain": [
       "       acoustic_data  time_to_failure\n",
       "count   6.291455e+08     6.291455e+08\n",
       "mean    4.519468e+00     4.477084e-01\n",
       "std     1.073571e+01     2.612789e+00\n",
       "min    -5.515000e+03     9.550396e-05\n",
       "25%     2.000000e+00     2.625997e+00\n",
       "50%     5.000000e+00     5.349798e+00\n",
       "75%     7.000000e+00     8.173395e+00\n",
       "max     5.444000e+03     1.610740e+01"
      ]
     },
     "execution_count": 7,
     "metadata": {},
     "output_type": "execute_result"
    }
   ],
   "source": [
    "%%time\n",
    "\n",
    "train.describe()"
   ]
  },
  {
   "cell_type": "code",
   "execution_count": 8,
   "metadata": {},
   "outputs": [
    {
     "data": {
      "text/plain": [
       "(629145480, 2)"
      ]
     },
     "execution_count": 8,
     "metadata": {},
     "output_type": "execute_result"
    }
   ],
   "source": [
    "train.shape"
   ]
  },
  {
   "cell_type": "code",
   "execution_count": 6,
   "metadata": {},
   "outputs": [],
   "source": [
    "# r = random.randint(1,620000000)\n",
    "# interval = (train.loc[r-150000,'time_to_failure'] - train.loc[r,'time_to_failure'])/150000; interval\n",
    "\n",
    "#hard-coded time in seconds between readings\n",
    "interval = 2.553520600001017e-07"
   ]
  },
  {
   "cell_type": "code",
   "execution_count": 7,
   "metadata": {},
   "outputs": [
    {
     "name": "stdout",
     "output_type": "stream",
     "text": [
      "CPU times: user 6.82 ms, sys: 3.38 ms, total: 10.2 ms\n",
      "Wall time: 8.28 ms\n"
     ]
    }
   ],
   "source": [
    "%%time\n",
    "\n",
    "x_axis = np.arange(start=0,stop=train.shape[0],step=100)*interval"
   ]
  },
  {
   "cell_type": "code",
   "execution_count": 9,
   "metadata": {},
   "outputs": [
    {
     "data": {
      "text/plain": [
       "(629146,)"
      ]
     },
     "execution_count": 9,
     "metadata": {},
     "output_type": "execute_result"
    }
   ],
   "source": [
    "x_axis.shape"
   ]
  },
  {
   "cell_type": "code",
   "execution_count": 8,
   "metadata": {},
   "outputs": [
    {
     "data": {
      "text/plain": [
       "array([0.00000000e+00, 2.55352060e-04, 5.10704120e-04, ...,\n",
       "       1.60652961e+02, 1.60653216e+02, 1.60653472e+02])"
      ]
     },
     "execution_count": 8,
     "metadata": {},
     "output_type": "execute_result"
    }
   ],
   "source": [
    "x_axis"
   ]
  },
  {
   "cell_type": "markdown",
   "metadata": {},
   "source": [
    "#### a small subsection of `train`"
   ]
  },
  {
   "cell_type": "code",
   "execution_count": 16,
   "metadata": {},
   "outputs": [
    {
     "data": {
      "text/plain": [
       "<matplotlib.axes._subplots.AxesSubplot at 0x7f1d6769fd68>"
      ]
     },
     "execution_count": 16,
     "metadata": {},
     "output_type": "execute_result"
    },
    {
     "data": {
      "image/png": "[encoded data removed]",
      "text/plain": [
       "<Figure size 432x288 with 1 Axes>"
      ]
     },
     "metadata": {
      "needs_background": "light"
     },
     "output_type": "display_data"
    }
   ],
   "source": [
    "sns.lineplot(y=train['acoustic_data'][:15000000:100],x=x_axis[:150000])"
   ]
  },
  {
   "cell_type": "code",
   "execution_count": 17,
   "metadata": {},
   "outputs": [
    {
     "data": {
      "text/plain": [
       "<matplotlib.axes._subplots.AxesSubplot at 0x7f1d67688cc0>"
      ]
     },
     "execution_count": 17,
     "metadata": {},
     "output_type": "execute_result"
    },
    {
     "data": {
      "image/png": "[encoded data removed]",
      "text/plain": [
       "<Figure size 432x288 with 1 Axes>"
      ]
     },
     "metadata": {
      "needs_background": "light"
     },
     "output_type": "display_data"
    }
   ],
   "source": [
    "sns.lineplot(y=train['time_to_failure'][:15000000:100],x=x_axis[:150000])"
   ]
  },
  {
   "cell_type": "markdown",
   "metadata": {},
   "source": [
    "NOTE: The test data, explained later, is around 2600 sequence each of length 150K, containing the same data points as in train: `acoustic_data` and `time_to_failure`"
   ]
  },
  {
   "cell_type": "markdown",
   "metadata": {},
   "source": [
    "## generate consecutive samples\n",
    "\n",
    "this function generates a dataframe of ~4200 samples (sampled csonsecutively, non-overlapping), using same format as test set"
   ]
  },
  {
   "cell_type": "markdown",
   "metadata": {},
   "source": [
    "#### set `consecutive_sample` parameters"
   ]
  },
  {
   "cell_type": "code",
   "execution_count": null,
   "metadata": {},
   "outputs": [],
   "source": [
    "# edit\n",
    "CONS_FILENAME = 'consecutive_samples'\n",
    "\n",
    "#leave as-is\n",
    "cons_filename = PROJECT_DIR/str(CONS_FILENAME+'.pickle')"
   ]
  },
  {
   "cell_type": "code",
   "execution_count": null,
   "metadata": {},
   "outputs": [],
   "source": [
    "def generateConsecutive(train):\n",
    "    '''\n",
    "    input: train dataframe (dim: #entries x 2 features: acoustic_data/time_to_failure)\n",
    "    returns: dataframe with length/sample_length consecutive samples, each with:\n",
    "        sequence = np.array(150k,) and time_to_failure = float\n",
    "    '''\n",
    "    \n",
    "    samples = []\n",
    "    \n",
    "    length = len(train)\n",
    "    sample_length = 150000\n",
    "    max_index = length-1\n",
    "    max_start = max_index - sample_length\n",
    "    \n",
    "    for i in range(length//sample_length):\n",
    "        \n",
    "        start = i*sample_length\n",
    "        end = (i+1)*sample_length\n",
    "        \n",
    "        samples += [[train['acoustic_data'].values[start:end],train['time_to_failure'].values[end]]]\n",
    "                \n",
    "    df = pd.DataFrame(samples)\n",
    "        \n",
    "    df = df.rename(columns = {0:'sequence',1:'time_to_failure'})\n",
    "    \n",
    "    return df"
   ]
  },
  {
   "cell_type": "code",
   "execution_count": null,
   "metadata": {},
   "outputs": [],
   "source": [
    "%%time\n",
    "\n",
    "consecutive_samples = generateConsecutive(train)"
   ]
  },
  {
   "cell_type": "code",
   "execution_count": null,
   "metadata": {},
   "outputs": [],
   "source": [
    "consecutive_samples.tail()"
   ]
  },
  {
   "cell_type": "markdown",
   "metadata": {},
   "source": [
    " #### pickle `consecutive_samples`"
   ]
  },
  {
   "cell_type": "markdown",
   "metadata": {},
   "source": [
    "NOTE: run once -> comment out"
   ]
  },
  {
   "cell_type": "code",
   "execution_count": null,
   "metadata": {},
   "outputs": [],
   "source": [
    "# %%time\n",
    "\n",
    "# with open(cons_filename,'wb') as f:\n",
    "#     pickle.dump(consecutive_samples,f,pickle.HIGHEST_PROTOCOL)"
   ]
  },
  {
   "cell_type": "markdown",
   "metadata": {},
   "source": [
    "#### delete `consecutive_samples` from ram"
   ]
  },
  {
   "cell_type": "code",
   "execution_count": null,
   "metadata": {},
   "outputs": [],
   "source": [
    "del consecutive_samples"
   ]
  },
  {
   "cell_type": "markdown",
   "metadata": {},
   "source": [
    "#### load pickled `consecutive_samples` from PROJECT_DIR"
   ]
  },
  {
   "cell_type": "code",
   "execution_count": null,
   "metadata": {},
   "outputs": [],
   "source": [
    "%%time\n",
    "\n",
    "with open(cons_filename,'rb') as f:\n",
    "    consecutive_samples = pickle.load(f)"
   ]
  },
  {
   "cell_type": "code",
   "execution_count": null,
   "metadata": {},
   "outputs": [],
   "source": [
    "consecutive_samples.tail()"
   ]
  },
  {
   "cell_type": "markdown",
   "metadata": {},
   "source": [
    "## generate N random samples\n",
    "\n",
    "this function generates a dataframe of N samples (sampled randomly, with replacement), using same format as test set"
   ]
  },
  {
   "cell_type": "code",
   "execution_count": null,
   "metadata": {},
   "outputs": [],
   "source": [
    "# edit\n",
    "RAND_FILENAME = 'random_samples'\n",
    "\n",
    "#leave unchanged\n",
    "rand_filename = PROJECT_DIR/str(RAND_FILENAME+'.pickle')"
   ]
  },
  {
   "cell_type": "code",
   "execution_count": null,
   "metadata": {},
   "outputs": [],
   "source": [
    "def generateRandom(train,n):\n",
    "    '''\n",
    "    input: train dataframe (dim: #entries x 2 features: acoustic_data/time_to_failure)\n",
    "    returns: dataframe with n random samples, each with:\n",
    "        sequence = np.array(150k,) and time_to_failure = float\n",
    "    '''\n",
    "    \n",
    "    samples = []\n",
    "    \n",
    "    length = len(train)\n",
    "    sample_length = 150000\n",
    "    max_index = length-1\n",
    "    max_start = max_index - sample_length\n",
    "    \n",
    "    for i in range(n):\n",
    "        \n",
    "        start = random.randint(0,max_start)\n",
    "        end = start + sample_length\n",
    "        \n",
    "        samples += [[np.array(train['acoustic_data'].values[start:end]),train['time_to_failure'].values[end]]]\n",
    "                \n",
    "    df = pd.DataFrame(samples)\n",
    "        \n",
    "    df = df.rename(columns = {0:'sequence',1:'time_to_failure'})\n",
    "    \n",
    "    return df"
   ]
  },
  {
   "cell_type": "code",
   "execution_count": null,
   "metadata": {},
   "outputs": [],
   "source": [
    "%%time\n",
    "\n",
    "random_samples = generateRandom(train,1000)"
   ]
  },
  {
   "cell_type": "code",
   "execution_count": null,
   "metadata": {},
   "outputs": [],
   "source": [
    "random_samples.tail()"
   ]
  },
  {
   "cell_type": "markdown",
   "metadata": {},
   "source": [
    " #### pickle `random_samples`"
   ]
  },
  {
   "cell_type": "markdown",
   "metadata": {},
   "source": [
    "NOTE: run once -> comment out"
   ]
  },
  {
   "cell_type": "code",
   "execution_count": null,
   "metadata": {},
   "outputs": [],
   "source": [
    "%%time\n",
    "\n",
    "with open(rand_filename,'wb') as f:\n",
    "    pickle.dump(random_samples,f,pickle.HIGHEST_PROTOCOL)"
   ]
  },
  {
   "cell_type": "markdown",
   "metadata": {},
   "source": [
    "#### delete `random_samples` from ram"
   ]
  },
  {
   "cell_type": "code",
   "execution_count": null,
   "metadata": {},
   "outputs": [],
   "source": [
    "del random_samples"
   ]
  },
  {
   "cell_type": "markdown",
   "metadata": {},
   "source": [
    "#### load pickled `consecutive_samples` from `PROJECT_DIR`"
   ]
  },
  {
   "cell_type": "code",
   "execution_count": null,
   "metadata": {},
   "outputs": [],
   "source": [
    "%%time\n",
    "\n",
    "with open(rand_filename,'rb') as f:\n",
    "    random_samples = pickle.load(f)"
   ]
  },
  {
   "cell_type": "code",
   "execution_count": null,
   "metadata": {},
   "outputs": [],
   "source": [
    "random_samples.tail()"
   ]
  },
  {
   "cell_type": "markdown",
   "metadata": {},
   "source": [
    "## Generate leaked samples\n",
    "The sampling function is unintuitive:\n",
    "\n",
    "it samples the train data in a non-uniform way such that train data is better aligned with test\n",
    "\n",
    "we found the test mean by averaging our score of multiple trials of submitting guesses of 0 to test suite; the mean-absolute error would be the mean `time_to_failure`"
   ]
  },
  {
   "cell_type": "code",
   "execution_count": null,
   "metadata": {},
   "outputs": [],
   "source": [
    "# edit\n",
    "LEAKED_FILENAME = 'leaked_samples'\n",
    "N_LEAKED_SAMPLES = 10\n",
    "\n",
    "#leave unchanged\n",
    "leaked_filename = PROJECT_DIR/str(LEAKED_FILENAME+'.pickle')"
   ]
  },
  {
   "cell_type": "code",
   "execution_count": null,
   "metadata": {},
   "outputs": [],
   "source": [
    "# earthquake times\n",
    "eq0 = (0,5656574)\n",
    "eq3 = (104677355,138772454)\n",
    "eq5 = (187641819,218652631)\n",
    "eq6 = (218652629,245829586)\n",
    "eq8 = (307838916,338276288)\n",
    "eq12 = (461811622,495800226)\n",
    "eq13 = (495800224,528777116)\n",
    "eq16 = (621985672,629145480)\n",
    "\n",
    "nogo = [eq0,eq16]\n",
    "nogo1 = nogo + [eq3,eq5,eq6]\n",
    "nogo2 = nogo + [eq3,eq8,eq12,eq13]\n",
    "nogo3 = nogo + [eq6,eq8,eq13]\n",
    "nogo4 = nogo + [eq6,eq8,eq12]"
   ]
  },
  {
   "cell_type": "code",
   "execution_count": null,
   "metadata": {},
   "outputs": [],
   "source": [
    "def is_valid(start,end,nogo_list):\n",
    "    \n",
    "    valid = True\n",
    "    \n",
    "    for a,b in nogo_list:\n",
    "        \n",
    "        if start>a and start<b:\n",
    "            valid = False\n",
    "        if end>a and end<b:\n",
    "            valid = False\n",
    "        \n",
    "    return valid\n",
    "        \n",
    "    "
   ]
  },
  {
   "cell_type": "code",
   "execution_count": null,
   "metadata": {},
   "outputs": [],
   "source": [
    "def generateLeaked(train,n,nogo_list):\n",
    "    \n",
    "    samples = []\n",
    "    \n",
    "    length = len(train)\n",
    "    sample_length = 150000\n",
    "    max_index = length-1\n",
    "    max_start = max_index - sample_length\n",
    "    \n",
    "    for i in range(n):\n",
    "        \n",
    "        start = random.randint(0,max_start)\n",
    "        end = start + sample_length\n",
    "        \n",
    "        while not is_valid(start,end,nogo_list):\n",
    "            start = random.randint(0,max_start)\n",
    "            end = start + sample_length\n",
    "        \n",
    "        samples += [[np.array(train['acoustic_data'].values[start:end]),train['time_to_failure'].values[end]]]\n",
    "                \n",
    "    df = pd.DataFrame(samples)\n",
    "        \n",
    "    df = df.rename(columns = {0:'sequence',1:'time_to_failure'})\n",
    "    \n",
    "    return df"
   ]
  },
  {
   "cell_type": "code",
   "execution_count": null,
   "metadata": {},
   "outputs": [],
   "source": [
    "%%time\n",
    "\n",
    "leaked_samples_list = []\n",
    "\n",
    "nogos = [nogo1,nogo2,nogo3,nogo4]\n",
    "\n",
    "for nogo in nogos:\n",
    "\n",
    "    current_sample = generateLeaked(train,N_LEAKED_SAMPLES,nogo)\n",
    "    \n",
    "    leaked_samples_list += [current_sample]"
   ]
  },
  {
   "cell_type": "code",
   "execution_count": null,
   "metadata": {},
   "outputs": [],
   "source": [
    "leaked_samples_list[3].tail()"
   ]
  },
  {
   "cell_type": "code",
   "execution_count": null,
   "metadata": {},
   "outputs": [],
   "source": [
    "leaked_samples = pd.concat(leaked_samples_list, axis=0)\n",
    "leaked_samples = leaked_samples.reset_index()\n",
    "leaked_samples = leaked_samples.drop(labels=['index'],axis=1)"
   ]
  },
  {
   "cell_type": "code",
   "execution_count": null,
   "metadata": {},
   "outputs": [],
   "source": [
    "leaked_samples.tail()"
   ]
  },
  {
   "cell_type": "code",
   "execution_count": null,
   "metadata": {},
   "outputs": [],
   "source": [
    "leaked_samples.describe()"
   ]
  },
  {
   "cell_type": "markdown",
   "metadata": {},
   "source": [
    " #### pickle `leaked_samples`"
   ]
  },
  {
   "cell_type": "markdown",
   "metadata": {},
   "source": [
    "NOTE: run once -> comment out"
   ]
  },
  {
   "cell_type": "code",
   "execution_count": null,
   "metadata": {},
   "outputs": [],
   "source": [
    "# %%time\n",
    "\n",
    "# with open(leaked_filename,'wb') as f:\n",
    "#     pickle.dump(leaked_samples,f,pickle.HIGHEST_PROTOCOL)"
   ]
  },
  {
   "cell_type": "markdown",
   "metadata": {},
   "source": [
    "#### delete `leaked_samples` from ram"
   ]
  },
  {
   "cell_type": "code",
   "execution_count": null,
   "metadata": {},
   "outputs": [],
   "source": [
    "del leaked_samples"
   ]
  },
  {
   "cell_type": "markdown",
   "metadata": {},
   "source": [
    "#### load pickled `leaked_samples` from `PROJECT_DIR`"
   ]
  },
  {
   "cell_type": "code",
   "execution_count": null,
   "metadata": {},
   "outputs": [],
   "source": [
    "%%time\n",
    "\n",
    "with open(leaked_filename,'rb') as f:\n",
    "    leaked_samples = pickle.load(f)"
   ]
  },
  {
   "cell_type": "code",
   "execution_count": null,
   "metadata": {},
   "outputs": [],
   "source": [
    "leaked_samples.tail()"
   ]
  },
  {
   "cell_type": "markdown",
   "metadata": {},
   "source": [
    "## full sequence features\n",
    "this function adds non-FFT features to samples dataframe"
   ]
  },
  {
   "cell_type": "code",
   "execution_count": null,
   "metadata": {},
   "outputs": [],
   "source": [
    "def generateFullFeatures(samples_df):\n",
    "    \n",
    "    #defining x as matrix of sequence data\n",
    "    x = []\n",
    "    for index,row in samples_df.iterrows():\n",
    "        x += [samples_df.loc[index,'sequence']]    \n",
    "    x = np.stack(x)\n",
    "    x_abs = np.absolute(x)\n",
    "    \n",
    "    length=150000\n",
    "    \n",
    "    #non-abs\n",
    "    samples_df['mean'] = np.mean(x,axis=1)\n",
    "    samples_df['median'] = np.median(x,axis=1)\n",
    "    samples_df['std'] = np.std(x,axis=1)\n",
    "    \n",
    "    samples_df['kurtosis'] = stats.kurtosis(x,axis=1)   \n",
    "    samples_df['m2'] = stats.moment(x,axis=1,moment=2)\n",
    "    samples_df['m3'] = stats.moment(x,axis=1,moment=3)\n",
    "    samples_df['skew'] = stats.skew(x,axis=1)\n",
    "    samples_df['variation'] = stats.variation(x,axis=1)\n",
    "    samples_df['sem'] = stats.sem(x,axis=1)\n",
    "\n",
    "    samples_df['iqr25_75'] = stats.iqr(x,axis=1,rng=(25,75))\n",
    "    samples_df['iqr10_90'] = stats.iqr(x,axis=1,rng=(10,90))\n",
    "    samples_df['iqr5_95'] = stats.iqr(x,axis=1,rng=(5,95))\n",
    "    samples_df['iqr1_99'] = stats.iqr(x,axis=1,rng=(1,99))\n",
    "    \n",
    "    \n",
    "    #abs\n",
    "    samples_df['mean_abs'] = np.mean(x_abs,axis=1)\n",
    "    samples_df['median_abs'] = np.median(x_abs,axis=1)\n",
    "    samples_df['std_abs'] = np.std(x_abs,axis=1)\n",
    "    \n",
    "    samples_df['kurtosis_abs'] = stats.kurtosis(x_abs,axis=1)   \n",
    "    samples_df['m2_abs'] = stats.moment(x_abs,axis=1,moment=2)\n",
    "    samples_df['m3_abs'] = stats.moment(x_abs,axis=1,moment=3)\n",
    "    samples_df['skew_abs'] = stats.skew(x_abs,axis=1)\n",
    "    samples_df['variation_abs'] = stats.variation(x_abs,axis=1)\n",
    "    samples_df['sem_abs'] = stats.sem(x_abs,axis=1)\n",
    "\n",
    "    \n",
    "    samples_df['iqr25_75_abs'] = stats.iqr(x_abs,axis=1,rng=(25,75))\n",
    "    samples_df['iqr10_90_abs'] = stats.iqr(x_abs,axis=1,rng=(10,90))\n",
    "    samples_df['iqr5_95_abs'] = stats.iqr(x_abs,axis=1,rng=(5,95))\n",
    "    samples_df['iqr1_99_abs'] = stats.iqr(x_abs,axis=1,rng=(1,99))\n",
    "    \n",
    "    \n",
    "    #slices\n",
    "    slices_list = [2,4]\n",
    "    \n",
    "    for slices in slices_list:\n",
    "\n",
    "        for i in range(slices):\n",
    "\n",
    "            suffix = '_'+str(slices)+'_'+str(i+1)\n",
    "\n",
    "            #create same as above, but for first half and second half\n",
    "            \n",
    "            x_slice = x[:,i*(length//slices):(i+1)*(length//slices)]\n",
    "            x_abs_slice = np.absolute(x_slice)\n",
    "\n",
    "            #non-abs\n",
    "            samples_df['mean'+suffix] = np.mean(x_slice,axis=1)\n",
    "            samples_df['median'+suffix] = np.median(x_slice,axis=1)\n",
    "            samples_df['std'+suffix] = np.std(x_slice,axis=1)\n",
    "\n",
    "            samples_df['kurtosis'+suffix] = stats.kurtosis(x_slice,axis=1)\n",
    "            samples_df['m2'+suffix] = stats.moment(x_slice,axis=1,moment=2)\n",
    "            samples_df['m3'+suffix] = stats.moment(x_slice,axis=1,moment=3)\n",
    "            samples_df['skew'+suffix] = stats.skew(x_slice,axis=1)\n",
    "            samples_df['variation'+suffix] = stats.variation(x_slice,axis=1)\n",
    "            samples_df['sem'+suffix] = stats.sem(x_slice,axis=1)\n",
    "\n",
    "            samples_df['iqr25_75'+suffix] = stats.iqr(x_slice,axis=1,rng=(25,75))\n",
    "            samples_df['iqr10_90'+suffix] = stats.iqr(x_slice,axis=1,rng=(10,90))\n",
    "            samples_df['iqr5_95'+suffix] = stats.iqr(x_slice,axis=1,rng=(5,95))\n",
    "            samples_df['iqr1_99'+suffix] = stats.iqr(x_slice,axis=1,rng=(1,99))\n",
    "\n",
    "\n",
    "            #abs\n",
    "            samples_df['mean_abs'+suffix] = np.mean(x_abs_slice,axis=1)\n",
    "            samples_df['median_abs'+suffix] = np.median(x_abs_slice,axis=1)\n",
    "            samples_df['std_abs'+suffix] = np.std(x_abs_slice,axis=1)\n",
    "\n",
    "            samples_df['kurtosis_abs'+suffix] = stats.kurtosis(x_abs_slice,axis=1)\n",
    "            samples_df['m2_abs'+suffix] = stats.moment(x_abs_slice,axis=1,moment=2)\n",
    "            samples_df['m3_abs'+suffix] = stats.moment(x_abs_slice,axis=1,moment=3)\n",
    "            samples_df['skew_abs'+suffix] = stats.skew(x_abs_slice,axis=1)\n",
    "            samples_df['variation_abs'+suffix] = stats.variation(x_abs_slice,axis=1)\n",
    "            samples_df['sem_abs'+suffix] = stats.sem(x_abs_slice,axis=1)\n",
    "\n",
    "\n",
    "            samples_df['iqr25_75_abs'+suffix] = stats.iqr(x_abs_slice,axis=1,rng=(25,75))\n",
    "            samples_df['iqr10_90_abs'+suffix] = stats.iqr(x_abs_slice,axis=1,rng=(10,90))\n",
    "            samples_df['iqr5_95_abs'+suffix] = stats.iqr(x_abs_slice,axis=1,rng=(5,95))\n",
    "            samples_df['iqr1_99_abs'+suffix] = stats.iqr(x_abs_slice,axis=1,rng=(1,99))            \n",
    "            "
   ]
  },
  {
   "cell_type": "markdown",
   "metadata": {},
   "source": [
    "the function below adds the following FFT features to the chosen engineered dataframe:\n",
    "\n",
    "top frequency in 5 different bands (identified through dataviz), as well as its corresponding amplitude"
   ]
  },
  {
   "cell_type": "code",
   "execution_count": null,
   "metadata": {},
   "outputs": [],
   "source": [
    "def FFTSingle(index,sequence,samples_df):\n",
    "    \n",
    "    x_realfft = np.real(fftpack.fft(sequence))\n",
    "    \n",
    "    band1 = x_realfft[600:900]\n",
    "    band2 = x_realfft[1100:1450]\n",
    "    band3 = x_realfft[1450:1900]\n",
    "    band4 = x_realfft[1950:2800]\n",
    "    band5 = x_realfft[33000:42000]\n",
    "    \n",
    "    samples_df.loc[index,'band1_alt'] = np.max(band1)\n",
    "    samples_df.loc[index,'band1_freq'] = np.argmax(band1)\n",
    "    samples_df.loc[index,'band2_alt'] = np.max(band2)\n",
    "    samples_df.loc[index,'band2_freq'] = np.argmax(band2)\n",
    "    samples_df.loc[index,'band3_alt'] = np.max(band3)\n",
    "    samples_df.loc[index,'band3_freq'] = np.argmax(band3)\n",
    "    samples_df.loc[index,'band4_alt'] = np.max(band4)\n",
    "    samples_df.loc[index,'band4_freq'] = np.argmax(band4)\n",
    "    samples_df.loc[index,'band5_alt'] = np.max(band5)\n",
    "    samples_df.loc[index,'band5_freq'] = np.argmax(band5)\n",
    "    \n",
    "def generateFFTFeatures(samples_df):\n",
    "    \n",
    "    for index, row in samples_df.iterrows():\n",
    "        \n",
    "        FFTSingle(index,row['sequence'],samples_df)"
   ]
  },
  {
   "cell_type": "markdown",
   "metadata": {},
   "source": [
    "## generate features for a sample\n",
    "\n",
    "here, we define which samples we want to load/generate features for, and then generate those features"
   ]
  },
  {
   "cell_type": "code",
   "execution_count": null,
   "metadata": {},
   "outputs": [],
   "source": [
    "#edit\n",
    "eng_samples = leaked_samples"
   ]
  },
  {
   "cell_type": "code",
   "execution_count": null,
   "metadata": {},
   "outputs": [],
   "source": [
    "#edit\n",
    "eng_samples_name = 'leaked_samples'\n",
    "\n",
    "#leave as-is\n",
    "eng_samples_filename = PROJECT_DIR/str(eng_samples_name+'_eng.pickle')"
   ]
  },
  {
   "cell_type": "code",
   "execution_count": null,
   "metadata": {},
   "outputs": [],
   "source": [
    "%%time\n",
    "\n",
    "generateFullFeatures(eng_samples)\n",
    "generateFFTFeatures(eng_samples)"
   ]
  },
  {
   "cell_type": "code",
   "execution_count": null,
   "metadata": {},
   "outputs": [],
   "source": [
    "eng_samples.tail()"
   ]
  },
  {
   "cell_type": "markdown",
   "metadata": {},
   "source": [
    " #### pickle `eng_samples`"
   ]
  },
  {
   "cell_type": "markdown",
   "metadata": {},
   "source": [
    "NOTE: run once -> comment out"
   ]
  },
  {
   "cell_type": "code",
   "execution_count": null,
   "metadata": {},
   "outputs": [],
   "source": [
    "# %%time\n",
    "\n",
    "# with open(eng_samples_filename,'wb') as f:\n",
    "#     pickle.dump(eng_samples,f,pickle.HIGHEST_PROTOCOL)"
   ]
  },
  {
   "cell_type": "markdown",
   "metadata": {},
   "source": [
    "#### delete `eng_samples` from ram"
   ]
  },
  {
   "cell_type": "code",
   "execution_count": null,
   "metadata": {},
   "outputs": [],
   "source": [
    "del eng_samples"
   ]
  },
  {
   "cell_type": "markdown",
   "metadata": {},
   "source": [
    "#### load pickled `eng_samples` from PROJECT_DIR"
   ]
  },
  {
   "cell_type": "code",
   "execution_count": null,
   "metadata": {},
   "outputs": [],
   "source": [
    "%%time\n",
    "\n",
    "with open(eng_samples_filename,'rb') as f:\n",
    "    eng_samples = pickle.load(f)"
   ]
  },
  {
   "cell_type": "code",
   "execution_count": null,
   "metadata": {},
   "outputs": [],
   "source": [
    "eng_samples.tail()"
   ]
  },
  {
   "cell_type": "markdown",
   "metadata": {},
   "source": [
    "## visualize data\n",
    "\n",
    "below we play around with some useful plotting libraries to better visualize key features"
   ]
  },
  {
   "cell_type": "code",
   "execution_count": null,
   "metadata": {},
   "outputs": [],
   "source": [
    "eng_samples.band3_freq.describe()"
   ]
  },
  {
   "cell_type": "code",
   "execution_count": null,
   "metadata": {},
   "outputs": [],
   "source": [
    "eng_samples.plot(x='iqr1_99_abs',y='time_to_failure',kind='scatter',logx=True)"
   ]
  },
  {
   "cell_type": "code",
   "execution_count": null,
   "metadata": {},
   "outputs": [],
   "source": [
    "eng_samples.plot.hexbin(x='mean',y='time_to_failure',gridsize=10)"
   ]
  },
  {
   "cell_type": "code",
   "execution_count": null,
   "metadata": {},
   "outputs": [],
   "source": [
    "sns.kdeplot(eng_samples.time_to_failure,eng_samples.band5_freq)"
   ]
  },
  {
   "cell_type": "code",
   "execution_count": null,
   "metadata": {},
   "outputs": [],
   "source": [
    "sns.kdeplot(eng_samples.band5_freq)"
   ]
  },
  {
   "cell_type": "code",
   "execution_count": null,
   "metadata": {},
   "outputs": [],
   "source": [
    "sns.kdeplot(eng_samples.time_to_failure)"
   ]
  },
  {
   "cell_type": "code",
   "execution_count": null,
   "metadata": {},
   "outputs": [],
   "source": [
    "sns.pairplot(eng_samples[['time_to_failure','band1_freq','band2_freq','band3_freq','band4_freq','band5_freq']])"
   ]
  },
  {
   "cell_type": "code",
   "execution_count": null,
   "metadata": {},
   "outputs": [],
   "source": [
    "sns.pairplot(eng_samples[['time_to_failure','band1_alt','band2_alt','band3_alt','band4_alt','band5_alt']])"
   ]
  },
  {
   "cell_type": "code",
   "execution_count": null,
   "metadata": {},
   "outputs": [],
   "source": [
    "sns.jointplot(x='band2_alt',y='time_to_failure',data=eng_samples,kind='hex',gridsize=25,xscale='log',yscale='log').annotate(stats.pearsonr, fontsize=10)"
   ]
  },
  {
   "cell_type": "code",
   "execution_count": null,
   "metadata": {},
   "outputs": [],
   "source": [
    "sns.jointplot(x='band3_alt',y='time_to_failure',data=eng_samples,kind='hex',gridsize=25,xscale='log',yscale='log')"
   ]
  },
  {
   "cell_type": "code",
   "execution_count": null,
   "metadata": {},
   "outputs": [],
   "source": [
    "sns.jointplot(x='band4_alt',y='time_to_failure',data=eng_samples,kind='hex',gridsize=25,xscale='log',yscale='log')"
   ]
  },
  {
   "cell_type": "code",
   "execution_count": null,
   "metadata": {},
   "outputs": [],
   "source": [
    "sns.jointplot(x='band2_freq',y='time_to_failure',data=eng_samples,kind='hex',gridsize=25,yscale='log')"
   ]
  },
  {
   "cell_type": "code",
   "execution_count": null,
   "metadata": {},
   "outputs": [],
   "source": [
    "sns.jointplot(x='iqr10_90',y='time_to_failure',data=eng_samples,kind='hex',gridsize=100,xscale='log',yscale='log')"
   ]
  },
  {
   "cell_type": "code",
   "execution_count": null,
   "metadata": {},
   "outputs": [],
   "source": [
    "sns.jointplot(x='iqr5_95',y='time_to_failure',data=eng_samples,kind='hex',gridsize=25,xscale='log',yscale='log')"
   ]
  },
  {
   "cell_type": "markdown",
   "metadata": {},
   "source": [
    "## Drop unwanted columns from sample"
   ]
  },
  {
   "cell_type": "code",
   "execution_count": null,
   "metadata": {},
   "outputs": [],
   "source": [
    "# column_to_drop = []\n",
    "# eng_samples.drop(labels=columns_to_drop,axis=1)"
   ]
  },
  {
   "cell_type": "markdown",
   "metadata": {},
   "source": [
    "## split data into train/validation\n",
    "\n",
    "we use sklearn's `train_test_split`, which allows us to adjust split test/train ratio, random state, shuffle, and other features out of the box"
   ]
  },
  {
   "cell_type": "code",
   "execution_count": null,
   "metadata": {},
   "outputs": [],
   "source": [
    "X = eng_samples.drop(labels=['time_to_failure','sequence'],axis=1)\n",
    "Y = eng_samples['time_to_failure']\n",
    "\n",
    "x_train, x_val, y_train, y_val = train_test_split(X,Y,test_size=.1,random_state=0,shuffle=False)"
   ]
  },
  {
   "cell_type": "code",
   "execution_count": null,
   "metadata": {},
   "outputs": [],
   "source": [
    "print(x_train.shape, x_val.shape, y_train.shape, y_val.shape)"
   ]
  },
  {
   "cell_type": "markdown",
   "metadata": {},
   "source": [
    "## XGBoost\n",
    "\n",
    "we decided on using xgboost over a sequential model\n",
    "\n",
    "intuitively, the test_sample length of 150k amounted to a time interval of ~.04seconds, which we felt was a small enough time frame to treat the entire sample a single input\n",
    "\n",
    "our experiments using a gru proved this intuition correct"
   ]
  },
  {
   "cell_type": "code",
   "execution_count": null,
   "metadata": {},
   "outputs": [],
   "source": [
    "n_estimators = 10000\n",
    "learning_rate = .005\n",
    "n_jobs = 8\n",
    "\n",
    "early_stopping_rounds = 10\n",
    "eval_set = [(x_val,y_val)]\n",
    "verbose = True"
   ]
  },
  {
   "cell_type": "code",
   "execution_count": null,
   "metadata": {},
   "outputs": [],
   "source": [
    "%%time\n",
    "\n",
    "model = XGBRegressor(\n",
    "    n_estimators = n_estimators, \n",
    "    learning_rate = learning_rate, \n",
    "    n_job = n_jobs\n",
    ")\n",
    "\n",
    "model.fit(x_train,y_train,\n",
    "              early_stopping_rounds= early_stopping_rounds,\n",
    "              eval_set = eval_set,\n",
    "              eval_metric = 'mae',\n",
    "              verbose = verbose\n",
    "             )\n",
    "\n",
    "from sklearn.metrics import mean_absolute_error\n",
    "\n",
    "\n",
    "predictions = model.predict(x_val)\n",
    "print('mae : '+str(mean_absolute_error(predictions,y_val)))"
   ]
  },
  {
   "cell_type": "code",
   "execution_count": 21,
   "metadata": {},
   "outputs": [
    {
     "data": {
      "text/plain": [
       "<matplotlib.axes._subplots.AxesSubplot at 0x7f1d635de1d0>"
      ]
     },
     "execution_count": 21,
     "metadata": {},
     "output_type": "execute_result"
    },
    {
     "data": {
      "image/png": "[encoded data removed]",
      "text/plain": [
       "<Figure size 576x3600 with 1 Axes>"
      ]
     },
     "metadata": {
      "needs_background": "light"
     },
     "output_type": "display_data"
    }
   ],
   "source": [
    "fig, ax = plt.subplots(figsize=(8, 50))\n",
    "xgboost.plot_importance(model, ax=ax)"
   ]
  },
  {
   "cell_type": "markdown",
   "metadata": {},
   "source": [
    "#### pickle `model`"
   ]
  },
  {
   "cell_type": "code",
   "execution_count": 19,
   "metadata": {},
   "outputs": [],
   "source": [
    "# edit\n",
    "MODEL_NAME = 'model_4096_all'\n",
    "\n",
    "#leave as-is\n",
    "model_filename = PROJECT_DIR/str(MODEL_NAME+'.pickle')"
   ]
  },
  {
   "cell_type": "code",
   "execution_count": null,
   "metadata": {},
   "outputs": [],
   "source": [
    "# %%time\n",
    "\n",
    "# with open(model_filename,'wb') as f:\n",
    "#     pickle.dump(model,f,pickle.HIGHEST_PROTOCOL)"
   ]
  },
  {
   "cell_type": "markdown",
   "metadata": {},
   "source": [
    "#### delete `model` from environment"
   ]
  },
  {
   "cell_type": "code",
   "execution_count": null,
   "metadata": {},
   "outputs": [],
   "source": [
    "del model"
   ]
  },
  {
   "cell_type": "markdown",
   "metadata": {},
   "source": [
    "#### load pickled `model`"
   ]
  },
  {
   "cell_type": "code",
   "execution_count": 20,
   "metadata": {},
   "outputs": [
    {
     "name": "stdout",
     "output_type": "stream",
     "text": [
      "[03:36:17] WARNING: /workspace/src/objective/regression_obj.cu:152: reg:linear is now deprecated in favor of reg:squarederror.\n",
      "CPU times: user 2.95 ms, sys: 46.6 ms, total: 49.6 ms\n",
      "Wall time: 127 ms\n"
     ]
    }
   ],
   "source": [
    "%%time\n",
    "\n",
    "with open(model_filename,'rb') as f:\n",
    "    model = pickle.load(f)"
   ]
  },
  {
   "cell_type": "markdown",
   "metadata": {},
   "source": [
    "## create submission\n",
    "as the test samples are each stored in a separate `.csv` file in the test folder, we first need to build a samples dataframe similar to the ones we encountered above, by looping through all files test files\n",
    "#### start by creating a dataframe identical in format to consecutive/random samples above"
   ]
  },
  {
   "cell_type": "code",
   "execution_count": null,
   "metadata": {},
   "outputs": [],
   "source": [
    "# edit\n",
    "TEST_SAMPLES_NAME = 'test_samples'\n",
    "\n",
    "# leave as-is\n",
    "test_samples_filename = PROJECT_DIR/str(TEST_SAMPLES_NAME+'.pickle')"
   ]
  },
  {
   "cell_type": "code",
   "execution_count": null,
   "metadata": {},
   "outputs": [],
   "source": [
    "%%time\n",
    "\n",
    "os.chdir(PROJECT_DIR/'test')\n",
    "    \n",
    "test_samples = pd.DataFrame(columns=['sequence','time_to_failure']) #change to 'time_to_failure'\n",
    "\n",
    "for i in range(len(os.listdir())):\n",
    "    \n",
    "    test_file = os.listdir()[i]\n",
    "    \n",
    "    temp_df = pd.read_csv('./'+test_file,engine='python')\n",
    "        \n",
    "    test_samples.loc[i,'sequence'] = np.array(temp_df['acoustic_data'].values[:])\n",
    "\n",
    "test_samples.tail()"
   ]
  },
  {
   "cell_type": "markdown",
   "metadata": {},
   "source": [
    "#### pickle `test_samples`"
   ]
  },
  {
   "cell_type": "code",
   "execution_count": null,
   "metadata": {},
   "outputs": [],
   "source": [
    "# %%time\n",
    "\n",
    "# with open(test_samples_filename,'wb') as f:\n",
    "#     pickle.dump(test_samples,f,pickle.HIGHEST_PROTOCOL)"
   ]
  },
  {
   "cell_type": "markdown",
   "metadata": {},
   "source": [
    "#### delete `test_samples` from environment"
   ]
  },
  {
   "cell_type": "code",
   "execution_count": null,
   "metadata": {},
   "outputs": [],
   "source": [
    "del test_samples"
   ]
  },
  {
   "cell_type": "markdown",
   "metadata": {},
   "source": [
    "#### load `test_samples`"
   ]
  },
  {
   "cell_type": "code",
   "execution_count": null,
   "metadata": {},
   "outputs": [],
   "source": [
    "%%time\n",
    "\n",
    "with open(test_samples_filename,'rb') as f:\n",
    "    test_samples = pickle.load(f)"
   ]
  },
  {
   "cell_type": "markdown",
   "metadata": {},
   "source": [
    "## generate features\n",
    "now, with the test samples dataframe, we are ready to generate features"
   ]
  },
  {
   "cell_type": "code",
   "execution_count": null,
   "metadata": {},
   "outputs": [],
   "source": [
    "%%time\n",
    "\n",
    "generateFullFeatures(test_samples)\n",
    "generateFFTFeatures(test_samples)"
   ]
  },
  {
   "cell_type": "code",
   "execution_count": null,
   "metadata": {},
   "outputs": [],
   "source": [
    "%%time\n",
    "\n",
    "test_samples.tail()"
   ]
  },
  {
   "cell_type": "code",
   "execution_count": null,
   "metadata": {},
   "outputs": [],
   "source": [
    "test_samples.shape"
   ]
  },
  {
   "cell_type": "markdown",
   "metadata": {},
   "source": [
    "#### pickle `test_samples_eng`"
   ]
  },
  {
   "cell_type": "code",
   "execution_count": null,
   "metadata": {},
   "outputs": [],
   "source": [
    "%%time\n",
    "\n",
    "with open(PROJECT_DIR/str(TEST_SAMPLES_NAME+'_eng.pickle'),'wb') as f:\n",
    "    pickle.dump(test_samples,f,pickle.HIGHEST_PROTOCOL)"
   ]
  },
  {
   "cell_type": "markdown",
   "metadata": {},
   "source": [
    "#### delete `test_samples_eng` from environment"
   ]
  },
  {
   "cell_type": "code",
   "execution_count": null,
   "metadata": {},
   "outputs": [],
   "source": [
    "del test_samples"
   ]
  },
  {
   "cell_type": "markdown",
   "metadata": {},
   "source": [
    "#### load `test_samples_eng`"
   ]
  },
  {
   "cell_type": "code",
   "execution_count": null,
   "metadata": {},
   "outputs": [],
   "source": [
    "%%time\n",
    "\n",
    "with open(PROJECT_DIR/str(TEST_SAMPLES_NAME+'_eng.pickle'),'rb') as f:\n",
    "    test_samples = pickle.load(f)"
   ]
  },
  {
   "cell_type": "code",
   "execution_count": null,
   "metadata": {},
   "outputs": [],
   "source": [
    "test_samples.tail()"
   ]
  },
  {
   "cell_type": "code",
   "execution_count": null,
   "metadata": {},
   "outputs": [],
   "source": [
    "test_samples.shape"
   ]
  },
  {
   "cell_type": "markdown",
   "metadata": {},
   "source": [
    "## make predictions/submit\n",
    "This code will create a `submission.csv` file, that can be submitted to kaggle using the command line api, or website"
   ]
  },
  {
   "cell_type": "code",
   "execution_count": null,
   "metadata": {},
   "outputs": [],
   "source": [
    "test_x = test_samples.drop(columns=['sequence','time_to_failure'])\n",
    "\n",
    "y_pred = model.predict(test_x)\n",
    "\n",
    "y_pred.shape"
   ]
  },
  {
   "cell_type": "code",
   "execution_count": null,
   "metadata": {},
   "outputs": [],
   "source": [
    "submission_df = pd.DataFrame(columns=['seg_id','time_to_failure'])\n",
    "\n",
    "submission_df['seg_id'] = pd.Series([i[:-4] for i in os.listdir(PROJECT_DIR/'test') if i[-4:]=='.csv'])\n",
    "submission_df.shape"
   ]
  },
  {
   "cell_type": "code",
   "execution_count": null,
   "metadata": {},
   "outputs": [],
   "source": [
    "submission_df['time_to_failure'] = y_pred\n",
    "\n",
    "submission_df.to_csv(PROJECT_DIR/'submission.csv',index=False)"
   ]
  },
  {
   "cell_type": "code",
   "execution_count": null,
   "metadata": {},
   "outputs": [],
   "source": [
    "submission_df.tail()"
   ]
  }
 ],
 "metadata": {
  "kernelspec": {
   "display_name": "Python 3",
   "language": "python",
   "name": "python3"
  },
  "language_info": {
   "codemirror_mode": {
    "name": "ipython",
    "version": 3
   },
   "file_extension": ".py",
   "mimetype": "text/x-python",
   "name": "python",
   "nbconvert_exporter": "python",
   "pygments_lexer": "ipython3",
   "version": "3.6.7"
  }
 },
 "nbformat": 4,
 "nbformat_minor": 2
}
