{
 "cells": [
  {
   "cell_type": "markdown",
   "metadata": {},
   "source": [
    "to do:\n",
    "- remove hardcoding of folders/filenames\n",
    "- change filessystem to pathlib\n",
    "- remove unnecessary packages\n",
    "- make markdown more comprehensive; include justification for design decision, such as when/when not to copy/paste\n",
    "- improve comments: remove, cut down, add extra for unintuitive functions, like matrix loop at top of featuregen\n",
    "- refactor slice code in generateFullFeatures()\n",
    "- ???? design decision: to consolidated to into a singletest_samples_eng\n",
    "- is there a more elegant way to delete object from ram than object = None\n",
    "- include in readme: system limitations, dependencies, brief overview\n",
    "- dependency graph on github\n",
    "- reorder this notes \n",
    "- experiment fft, etc\n",
    "- split pickling concsecutive/random sample pre-and post- feature generation\n",
    "- edit the data visualisation to focus in on useful insights; move it to after running feature_importance on xgboost\n",
    "- work on adjustment/justification for test_set data-leakage\n",
    "- eliminate double -writing of xgboost params\n",
    "- more explicit warnings for overwriting pickles"
   ]
  },
  {
   "cell_type": "code",
   "execution_count": 14,
   "metadata": {},
   "outputs": [],
   "source": [
    "import numpy as np # linear algebra\n",
    "import pandas as pd # data processing, CSV file I/O (e.g. pd.read_csv)\n",
    "import os\n",
    "import matplotlib.pyplot as plt\n",
    "%matplotlib inline\n",
    "import torch\n",
    "import torch.nn as nn\n",
    "from torch.utils.data import Dataset, DataLoader\n",
    "\n",
    "#my imports\n",
    "import pathlib as path\n",
    "import zipfile\n",
    "import pickle\n",
    "import random\n",
    "import time\n",
    "from scipy import stats\n",
    "import scipy\n",
    "import statistics\n",
    "from torch.autograd import Variable\n",
    "\n",
    "import keras\n",
    "from keras.layers import GRU, Dense, Activation, Input\n",
    "from keras.models import Sequential, Model\n",
    "import tensorflow as tf\n",
    "\n",
    "from xgboost import XGBRegressor\n",
    "import seaborn as sns\n",
    "\n",
    "from sklearn.model_selection import train_test_split\n",
    "import lightgbm\n",
    "import re\n",
    "from pathlib import Path"
   ]
  },
  {
   "cell_type": "markdown",
   "metadata": {},
   "source": [
    "# confirm code is run from folder /earthquake"
   ]
  },
  {
   "cell_type": "code",
   "execution_count": 2,
   "metadata": {},
   "outputs": [
    {
     "data": {
      "text/plain": [
       "['Model1000.pickle',\n",
       " 'train_samples.pickle',\n",
       " 'test_samples.pickle',\n",
       " 'Xb.pickle',\n",
       " 'train.csv',\n",
       " 'features.zip',\n",
       " 'YFFT_.pickle',\n",
       " 'model2.pickle',\n",
       " 'Model10000.pickle',\n",
       " 'Ensemble.ipynb',\n",
       " 'XY3.pickle',\n",
       " 'Y.pickle',\n",
       " 'Model100.pickle',\n",
       " 'X100_.pickle',\n",
       " 'Xbfft.pickle',\n",
       " 'sandbox.ipynb',\n",
       " 'consecutive_samples.pickle',\n",
       " 'test.zip',\n",
       " 'fft_Y.pickle',\n",
       " 'Xcfft.pickle',\n",
       " 'Modelfft1000.pickle',\n",
       " 'Y_a.pickle',\n",
       " 'Feature_Engineering.ipynb',\n",
       " 'Y_.pickle',\n",
       " 'Y_b.pickle',\n",
       " 'submission.csv',\n",
       " 'X10000_.pickle',\n",
       " 'ensemble.zip',\n",
       " 'pickle.ipynb',\n",
       " 'XY1.pickle',\n",
       " 'X10000_b.pickle',\n",
       " 'Xc.pickle',\n",
       " 'X10000_a.pickle',\n",
       " 'Xa.pickle',\n",
       " 'ensemble.pickle',\n",
       " 'model1.pickle',\n",
       " 'model_xgb.pickle',\n",
       " 'Modelfft100.pickle',\n",
       " 'X1000FFT_.pickle',\n",
       " 'X1000.pickle',\n",
       " 'refactor.ipynb',\n",
       " 'SAMPLES_.pickle',\n",
       " 'sample_submission.csv',\n",
       " 'test_samples_eng.pickle',\n",
       " 'X1000_.pickle',\n",
       " 'X1.pickle',\n",
       " 'X10000.pickle',\n",
       " 'train.csv.zip',\n",
       " 'X10000FFT_.pickle',\n",
       " 'share',\n",
       " 'Y_c.pickle',\n",
       " 'Modelfft10000.pickle',\n",
       " 'X100FFT_.pickle',\n",
       " 'XY4.pickle',\n",
       " 'model.pickle',\n",
       " 'XY.pickle',\n",
       " 'Xafft.pickle',\n",
       " 'Y_new.pickle',\n",
       " 'GRU.ipynb',\n",
       " 'train.pickle',\n",
       " 'Model10000_a.pickle',\n",
       " 'X100.pickle',\n",
       " 'feature.zip',\n",
       " 'X.pickle',\n",
       " 'gru.zip',\n",
       " 'XY2.pickle',\n",
       " 'LSTM.ipynb',\n",
       " 'fft_samples.pickle',\n",
       " '.ipynb_checkpoints',\n",
       " 'test']"
      ]
     },
     "execution_count": 2,
     "metadata": {},
     "output_type": "execute_result"
    }
   ],
   "source": [
    "os.chdir('/notebooks/storage/earthquake')\n",
    "os.listdir()"
   ]
  },
  {
   "cell_type": "markdown",
   "metadata": {},
   "source": [
    "# download data from kaggle"
   ]
  },
  {
   "cell_type": "code",
   "execution_count": null,
   "metadata": {},
   "outputs": [],
   "source": [
    "%%time\n",
    "!kaggle competitions download LANL-Earthquake-Prediction"
   ]
  },
  {
   "cell_type": "markdown",
   "metadata": {},
   "source": [
    "# unzip kaggle files"
   ]
  },
  {
   "cell_type": "code",
   "execution_count": null,
   "metadata": {},
   "outputs": [],
   "source": [
    "%%time\n",
    "\n",
    "train_zip='train.csv.zip'\n",
    "test_zip='test.zip'\n",
    "earthquake_dir='.'\n",
    "test_dir='./test'\n",
    "\n",
    "zip_ref=zipfile.ZipFile(train_zip,'r')\n",
    "zip_ref.extractall(earthquake_dir)\n",
    "zip_ref.close()\n",
    "\n",
    "zip_ref=zipfile.ZipFile(test_zip,'r')\n",
    "zip_ref.extractall(test_dir)\n",
    "zip_ref.close()"
   ]
  },
  {
   "cell_type": "markdown",
   "metadata": {},
   "source": [
    "# convert csv to dataframe"
   ]
  },
  {
   "cell_type": "code",
   "execution_count": null,
   "metadata": {},
   "outputs": [],
   "source": [
    "%%time \n",
    "\n",
    "train = pd.read_csv('./train.csv', dtype={\"acoustic_data\": np.int16, \"time_to_failure\": np.float32})"
   ]
  },
  {
   "cell_type": "markdown",
   "metadata": {},
   "source": [
    "# pickle train dataframe\n",
    "NOTE: run once then comment out"
   ]
  },
  {
   "cell_type": "code",
   "execution_count": null,
   "metadata": {},
   "outputs": [],
   "source": [
    "# %%time\n",
    "\n",
    "# with open('/notebooks/storage/earthquake/train.pickle','wb') as f:\n",
    "#     pickle.dump(train,f,pickle.HIGHEST_PROTOCOL)"
   ]
  },
  {
   "cell_type": "markdown",
   "metadata": {},
   "source": [
    "CAUTION: code below will delete loaded train object from ram"
   ]
  },
  {
   "cell_type": "code",
   "execution_count": null,
   "metadata": {},
   "outputs": [],
   "source": [
    "train = None"
   ]
  },
  {
   "cell_type": "markdown",
   "metadata": {},
   "source": [
    "# load train dataframe"
   ]
  },
  {
   "cell_type": "code",
   "execution_count": 15,
   "metadata": {},
   "outputs": [
    {
     "name": "stdout",
     "output_type": "stream",
     "text": [
      "CPU times: user 1.04 s, sys: 5.09 s, total: 6.13 s\n",
      "Wall time: 54.9 s\n"
     ]
    }
   ],
   "source": [
    "%%time\n",
    "\n",
    "with open('/notebooks/storage/earthquake/train.pickle','rb') as f:\n",
    "    train = pickle.load(f)"
   ]
  },
  {
   "cell_type": "code",
   "execution_count": 16,
   "metadata": {},
   "outputs": [
    {
     "data": {
      "text/html": [
       "<div>\n",
       "<style scoped>\n",
       "    .dataframe tbody tr th:only-of-type {\n",
       "        vertical-align: middle;\n",
       "    }\n",
       "\n",
       "    .dataframe tbody tr th {\n",
       "        vertical-align: top;\n",
       "    }\n",
       "\n",
       "    .dataframe thead th {\n",
       "        text-align: right;\n",
       "    }\n",
       "</style>\n",
       "<table border=\"1\" class=\"dataframe\">\n",
       "  <thead>\n",
       "    <tr style=\"text-align: right;\">\n",
       "      <th></th>\n",
       "      <th>acoustic_data</th>\n",
       "      <th>time_to_failure</th>\n",
       "    </tr>\n",
       "  </thead>\n",
       "  <tbody>\n",
       "    <tr>\n",
       "      <th>629145475</th>\n",
       "      <td>7</td>\n",
       "      <td>9.759795</td>\n",
       "    </tr>\n",
       "    <tr>\n",
       "      <th>629145476</th>\n",
       "      <td>9</td>\n",
       "      <td>9.759795</td>\n",
       "    </tr>\n",
       "    <tr>\n",
       "      <th>629145477</th>\n",
       "      <td>10</td>\n",
       "      <td>9.759795</td>\n",
       "    </tr>\n",
       "    <tr>\n",
       "      <th>629145478</th>\n",
       "      <td>6</td>\n",
       "      <td>9.759795</td>\n",
       "    </tr>\n",
       "    <tr>\n",
       "      <th>629145479</th>\n",
       "      <td>5</td>\n",
       "      <td>9.759795</td>\n",
       "    </tr>\n",
       "  </tbody>\n",
       "</table>\n",
       "</div>"
      ],
      "text/plain": [
       "           acoustic_data  time_to_failure\n",
       "629145475              7         9.759795\n",
       "629145476              9         9.759795\n",
       "629145477             10         9.759795\n",
       "629145478              6         9.759795\n",
       "629145479              5         9.759795"
      ]
     },
     "execution_count": 16,
     "metadata": {},
     "output_type": "execute_result"
    }
   ],
   "source": [
    "train.tail()"
   ]
  },
  {
   "cell_type": "markdown",
   "metadata": {},
   "source": [
    "# generate consecutive samples"
   ]
  },
  {
   "cell_type": "code",
   "execution_count": null,
   "metadata": {},
   "outputs": [],
   "source": [
    "def generateConsecutive(train):\n",
    "    \n",
    "    samples = []\n",
    "    \n",
    "    length = len(train)\n",
    "    sample_length = 150000\n",
    "    max_index = length-1\n",
    "    max_start = max_index - sample_length\n",
    "    \n",
    "    for i in range(length//sample_length):\n",
    "        \n",
    "        start = i*sample_length\n",
    "        end = (i+1)*sample_length\n",
    "        \n",
    "        samples += [[train['acoustic_data'].values[start:end],train['time_to_failure'].values[end]]]\n",
    "                \n",
    "    df = pd.DataFrame(samples)\n",
    "        \n",
    "    df = df.rename(columns = {0:'sequence',1:'ttf'})\n",
    "    \n",
    "    return df\n",
    "    \n",
    "    "
   ]
  },
  {
   "cell_type": "code",
   "execution_count": null,
   "metadata": {},
   "outputs": [],
   "source": [
    "%%time\n",
    "\n",
    "consecutive_samples = generateConsecutive(train)"
   ]
  },
  {
   "cell_type": "code",
   "execution_count": null,
   "metadata": {},
   "outputs": [],
   "source": [
    "consecutive_samples.tail()"
   ]
  },
  {
   "cell_type": "markdown",
   "metadata": {},
   "source": [
    "# generate N random samples"
   ]
  },
  {
   "cell_type": "code",
   "execution_count": 17,
   "metadata": {},
   "outputs": [],
   "source": [
    "def generateRandom(train,n):\n",
    "    \n",
    "    samples = []\n",
    "    \n",
    "    length = len(train)\n",
    "    sample_length = 150000\n",
    "    max_index = length-1\n",
    "    max_start = max_index - sample_length\n",
    "    \n",
    "    for i in range(n):\n",
    "        \n",
    "        start = random.randint(0,max_start)\n",
    "        end = start + sample_length\n",
    "        \n",
    "        samples += [[np.array(train['acoustic_data'].values[start:end]),train['time_to_failure'].values[end]]]\n",
    "                \n",
    "    df = pd.DataFrame(samples)\n",
    "        \n",
    "    df = df.rename(columns = {0:'sequence',1:'ttf'})\n",
    "    \n",
    "    return df"
   ]
  },
  {
   "cell_type": "code",
   "execution_count": 18,
   "metadata": {},
   "outputs": [
    {
     "name": "stdout",
     "output_type": "stream",
     "text": [
      "CPU times: user 1.37 ms, sys: 5.7 ms, total: 7.06 ms\n",
      "Wall time: 43.9 ms\n"
     ]
    }
   ],
   "source": [
    "%%time\n",
    "\n",
    "random_samples = generateRandom(train,10)"
   ]
  },
  {
   "cell_type": "code",
   "execution_count": 19,
   "metadata": {},
   "outputs": [
    {
     "data": {
      "text/html": [
       "<div>\n",
       "<style scoped>\n",
       "    .dataframe tbody tr th:only-of-type {\n",
       "        vertical-align: middle;\n",
       "    }\n",
       "\n",
       "    .dataframe tbody tr th {\n",
       "        vertical-align: top;\n",
       "    }\n",
       "\n",
       "    .dataframe thead th {\n",
       "        text-align: right;\n",
       "    }\n",
       "</style>\n",
       "<table border=\"1\" class=\"dataframe\">\n",
       "  <thead>\n",
       "    <tr style=\"text-align: right;\">\n",
       "      <th></th>\n",
       "      <th>sequence</th>\n",
       "      <th>ttf</th>\n",
       "    </tr>\n",
       "  </thead>\n",
       "  <tbody>\n",
       "    <tr>\n",
       "      <th>5</th>\n",
       "      <td>[5, 5, 4, 7, 9, 7, 4, 2, 8, 7, 4, 4, -2, 2, 2,...</td>\n",
       "      <td>6.572898</td>\n",
       "    </tr>\n",
       "    <tr>\n",
       "      <th>6</th>\n",
       "      <td>[3, 2, 4, 7, 5, 4, 4, 4, 5, 3, 2, 4, 2, 3, 6, ...</td>\n",
       "      <td>2.380298</td>\n",
       "    </tr>\n",
       "    <tr>\n",
       "      <th>7</th>\n",
       "      <td>[7, 5, 6, 4, 1, 4, 5, 3, 1, 2, 7, 4, 4, 7, 5, ...</td>\n",
       "      <td>13.955996</td>\n",
       "    </tr>\n",
       "    <tr>\n",
       "      <th>8</th>\n",
       "      <td>[10, 15, 19, 7, 7, 1, -6, -3, -8, -8, 4, 13, 2...</td>\n",
       "      <td>1.604599</td>\n",
       "    </tr>\n",
       "    <tr>\n",
       "      <th>9</th>\n",
       "      <td>[6, 8, 6, 3, 5, 3, -2, 4, 5, 2, 3, 2, 4, 4, 3,...</td>\n",
       "      <td>8.125196</td>\n",
       "    </tr>\n",
       "  </tbody>\n",
       "</table>\n",
       "</div>"
      ],
      "text/plain": [
       "                                            sequence        ttf\n",
       "5  [5, 5, 4, 7, 9, 7, 4, 2, 8, 7, 4, 4, -2, 2, 2,...   6.572898\n",
       "6  [3, 2, 4, 7, 5, 4, 4, 4, 5, 3, 2, 4, 2, 3, 6, ...   2.380298\n",
       "7  [7, 5, 6, 4, 1, 4, 5, 3, 1, 2, 7, 4, 4, 7, 5, ...  13.955996\n",
       "8  [10, 15, 19, 7, 7, 1, -6, -3, -8, -8, 4, 13, 2...   1.604599\n",
       "9  [6, 8, 6, 3, 5, 3, -2, 4, 5, 2, 3, 2, 4, 4, 3,...   8.125196"
      ]
     },
     "execution_count": 19,
     "metadata": {},
     "output_type": "execute_result"
    }
   ],
   "source": [
    "random_samples.tail()"
   ]
  },
  {
   "cell_type": "markdown",
   "metadata": {},
   "source": [
    "# full sequence features"
   ]
  },
  {
   "cell_type": "code",
   "execution_count": 20,
   "metadata": {},
   "outputs": [],
   "source": [
    "from scipy import fftpack\n",
    "\n",
    "def generateFullFeatures(samples_df):\n",
    "    \n",
    "    #defining x as matrix of sequence data\n",
    "    x = []\n",
    "    for index,row in samples_df.iterrows():\n",
    "        x += [samples_df.loc[index,'sequence']]    \n",
    "    x = np.stack(x)\n",
    "    x_abs = np.absolute(x)\n",
    "    \n",
    "    length=150000\n",
    "    \n",
    "    #non-abs\n",
    "    samples_df['mean'] = np.mean(x,axis=1)\n",
    "    samples_df['median'] = np.median(x,axis=1)\n",
    "    samples_df['std'] = np.std(x,axis=1)\n",
    "    \n",
    "    samples_df['kurtosis'] = stats.kurtosis(x,axis=1)   \n",
    "    samples_df['m2'] = stats.moment(x,axis=1,moment=2)\n",
    "    samples_df['m3'] = stats.moment(x,axis=1,moment=3)\n",
    "    samples_df['skew'] = stats.skew(x,axis=1)\n",
    "    samples_df['variation'] = stats.variation(x,axis=1)\n",
    "    samples_df['sem'] = stats.sem(x,axis=1)\n",
    "\n",
    "    samples_df['iqr25_75'] = stats.iqr(x,axis=1,rng=(25,75))\n",
    "    samples_df['iqr10_90'] = stats.iqr(x,axis=1,rng=(10,90))\n",
    "    samples_df['iqr5_95'] = stats.iqr(x,axis=1,rng=(5,95))\n",
    "    samples_df['iqr1_99'] = stats.iqr(x,axis=1,rng=(1,99))\n",
    "    \n",
    "    \n",
    "    #abs\n",
    "    samples_df['mean_abs'] = np.mean(x_abs,axis=1)\n",
    "    samples_df['median_abs'] = np.median(x_abs,axis=1)\n",
    "    samples_df['std_abs'] = np.std(x_abs,axis=1)\n",
    "    \n",
    "    samples_df['kurtosis_abs'] = stats.kurtosis(x_abs,axis=1)   \n",
    "    samples_df['m2_abs'] = stats.moment(x_abs,axis=1,moment=2)\n",
    "    samples_df['m3_abs'] = stats.moment(x_abs,axis=1,moment=3)\n",
    "    samples_df['skew_abs'] = stats.skew(x_abs,axis=1)\n",
    "    samples_df['variation_abs'] = stats.variation(x_abs,axis=1)\n",
    "    samples_df['sem_abs'] = stats.sem(x_abs,axis=1)\n",
    "\n",
    "    \n",
    "    samples_df['iqr25_75_abs'] = stats.iqr(x_abs,axis=1,rng=(25,75))\n",
    "    samples_df['iqr10_90_abs'] = stats.iqr(x_abs,axis=1,rng=(10,90))\n",
    "    samples_df['iqr5_95_abs'] = stats.iqr(x_abs,axis=1,rng=(5,95))\n",
    "    samples_df['iqr1_99_abs'] = stats.iqr(x_abs,axis=1,rng=(1,99))\n",
    "    \n",
    "    \n",
    "    #slices\n",
    "    slices_list = [2,4]\n",
    "    \n",
    "    for slices in slices_list:\n",
    "\n",
    "        for i in range(slices):\n",
    "\n",
    "            suffix = '_'+str(slices)+'_'+str(i+1)\n",
    "\n",
    "            #create same as above, but for first half and second half\n",
    "            \n",
    "            # STYLE: DEFINE sliced_x at top of inner loop to make code prettier\n",
    "\n",
    "            #non-abs\n",
    "            samples_df['mean'+suffix] = np.mean(x[:,i*(length//slices):(i+1)*(length//slices)],axis=1)\n",
    "            samples_df['median'+suffix] = np.median(x[:,i*(length//slices):(i+1)*(length//slices)],axis=1)\n",
    "            samples_df['std'+suffix] = np.std(x[:,i*(length//slices):(i+1)*(length//slices)],axis=1)\n",
    "\n",
    "            samples_df['kurtosis'+suffix] = stats.kurtosis(x[:,i*(length//slices):(i+1)*(length//slices)],axis=1)\n",
    "            samples_df['m2'+suffix] = stats.moment(x[:,i*(length//slices):(i+1)*(length//slices)],axis=1,moment=2)\n",
    "            samples_df['m3'+suffix] = stats.moment(x[:,i*(length//slices):(i+1)*(length//slices)],axis=1,moment=3)\n",
    "            samples_df['skew'+suffix] = stats.skew(x[:,i*(length//slices):(i+1)*(length//slices)],axis=1)\n",
    "            samples_df['variation'+suffix] = stats.variation(x[:,i*(length//slices):(i+1)*(length//slices)],axis=1)\n",
    "            samples_df['sem'+suffix] = stats.sem(x[:,i*(length//slices):(i+1)*(length//slices)],axis=1)\n",
    "\n",
    "            samples_df['iqr25_75'+suffix] = stats.iqr(x[:,i*(length//slices):(i+1)*(length//slices)],axis=1,rng=(25,75))\n",
    "            samples_df['iqr10_90'+suffix] = stats.iqr(x[:,i*(length//slices):(i+1)*(length//slices)],axis=1,rng=(10,90))\n",
    "            samples_df['iqr5_95'+suffix] = stats.iqr(x[:,i*(length//slices):(i+1)*(length//slices)],axis=1,rng=(5,95))\n",
    "            samples_df['iqr1_99'+suffix] = stats.iqr(x[:,i*(length//slices):(i+1)*(length//slices)],axis=1,rng=(1,99))\n",
    "\n",
    "\n",
    "            #abs\n",
    "            samples_df['mean_abs'+suffix] = np.mean(x_abs[:,i*(length//slices):(i+1)*(length//slices)],axis=1)\n",
    "            samples_df['median_abs'+suffix] = np.median(x_abs[:,i*(length//slices):(i+1)*(length//slices)],axis=1)\n",
    "            samples_df['std_abs'+suffix] = np.std(x_abs[:,i*(length//slices):(i+1)*(length//slices)],axis=1)\n",
    "\n",
    "            samples_df['kurtosis_abs'+suffix] = stats.kurtosis(x_abs[:,i*(length//slices):(i+1)*(length//slices)],axis=1)\n",
    "            samples_df['m2_abs'+suffix] = stats.moment(x_abs[:,i*(length//slices):(i+1)*(length//slices)],axis=1,moment=2)\n",
    "            samples_df['m3_abs'+suffix] = stats.moment(x_abs[:,i*(length//slices):(i+1)*(length//slices)],axis=1,moment=3)\n",
    "            samples_df['skew_abs'+suffix] = stats.skew(x_abs[:,i*(length//slices):(i+1)*(length//slices)],axis=1)\n",
    "            samples_df['variation_abs'+suffix] = stats.variation(x_abs[:,i*(length//slices):(i+1)*(length//slices)],axis=1)\n",
    "            samples_df['sem_abs'+suffix] = stats.sem(x_abs[:,i*(length//slices):(i+1)*(length//slices)],axis=1)\n",
    "\n",
    "\n",
    "            samples_df['iqr25_75_abs'+suffix] = stats.iqr(x_abs[:,i*(length//slices):(i+1)*(length//slices)],axis=1,rng=(25,75))\n",
    "            samples_df['iqr10_90_abs'+suffix] = stats.iqr(x_abs[:,i*(length//slices):(i+1)*(length//slices)],axis=1,rng=(10,90))\n",
    "            samples_df['iqr5_95_abs'+suffix] = stats.iqr(x_abs[:,i*(length//slices):(i+1)*(length//slices)],axis=1,rng=(5,95))\n",
    "            samples_df['iqr1_99_abs'+suffix] = stats.iqr(x_abs[:,i*(length//slices):(i+1)*(length//slices)],axis=1,rng=(1,99))            \n",
    "            "
   ]
  },
  {
   "cell_type": "code",
   "execution_count": 21,
   "metadata": {},
   "outputs": [
    {
     "name": "stdout",
     "output_type": "stream",
     "text": [
      "CPU times: user 1.2 s, sys: 199 ms, total: 1.4 s\n",
      "Wall time: 1.41 s\n"
     ]
    }
   ],
   "source": [
    "%%time\n",
    "\n",
    "generateFullFeatures(random_samples)"
   ]
  },
  {
   "cell_type": "code",
   "execution_count": 23,
   "metadata": {
    "scrolled": false
   },
   "outputs": [
    {
     "data": {
      "text/html": [
       "<div>\n",
       "<style scoped>\n",
       "    .dataframe tbody tr th:only-of-type {\n",
       "        vertical-align: middle;\n",
       "    }\n",
       "\n",
       "    .dataframe tbody tr th {\n",
       "        vertical-align: top;\n",
       "    }\n",
       "\n",
       "    .dataframe thead th {\n",
       "        text-align: right;\n",
       "    }\n",
       "</style>\n",
       "<table border=\"1\" class=\"dataframe\">\n",
       "  <thead>\n",
       "    <tr style=\"text-align: right;\">\n",
       "      <th></th>\n",
       "      <th>sequence</th>\n",
       "      <th>ttf</th>\n",
       "      <th>mean</th>\n",
       "      <th>median</th>\n",
       "      <th>std</th>\n",
       "      <th>kurtosis</th>\n",
       "      <th>m2</th>\n",
       "      <th>m3</th>\n",
       "      <th>skew</th>\n",
       "      <th>variation</th>\n",
       "      <th>...</th>\n",
       "      <th>kurtosis_abs_4_4</th>\n",
       "      <th>m2_abs_4_4</th>\n",
       "      <th>m3_abs_4_4</th>\n",
       "      <th>skew_abs_4_4</th>\n",
       "      <th>variation_abs_4_4</th>\n",
       "      <th>sem_abs_4_4</th>\n",
       "      <th>iqr25_75_abs_4_4</th>\n",
       "      <th>iqr10_90_abs_4_4</th>\n",
       "      <th>iqr5_95_abs_4_4</th>\n",
       "      <th>iqr1_99_abs_4_4</th>\n",
       "    </tr>\n",
       "  </thead>\n",
       "  <tbody>\n",
       "    <tr>\n",
       "      <th>5</th>\n",
       "      <td>[5, 5, 4, 7, 9, 7, 4, 2, 8, 7, 4, 4, -2, 2, 2,...</td>\n",
       "      <td>6.572898</td>\n",
       "      <td>4.471387</td>\n",
       "      <td>4.0</td>\n",
       "      <td>8.969663</td>\n",
       "      <td>130.742437</td>\n",
       "      <td>80.454848</td>\n",
       "      <td>-632.885586</td>\n",
       "      <td>-0.876995</td>\n",
       "      <td>2.006014</td>\n",
       "      <td>...</td>\n",
       "      <td>84.960700</td>\n",
       "      <td>175.640276</td>\n",
       "      <td>18503.650453</td>\n",
       "      <td>7.949160</td>\n",
       "      <td>1.874637</td>\n",
       "      <td>0.068439</td>\n",
       "      <td>4.0</td>\n",
       "      <td>10.0</td>\n",
       "      <td>16.0</td>\n",
       "      <td>72.00</td>\n",
       "    </tr>\n",
       "    <tr>\n",
       "      <th>6</th>\n",
       "      <td>[3, 2, 4, 7, 5, 4, 4, 4, 5, 3, 2, 4, 2, 3, 6, ...</td>\n",
       "      <td>2.380298</td>\n",
       "      <td>4.646927</td>\n",
       "      <td>5.0</td>\n",
       "      <td>8.558958</td>\n",
       "      <td>215.763650</td>\n",
       "      <td>73.255759</td>\n",
       "      <td>-199.058574</td>\n",
       "      <td>-0.317481</td>\n",
       "      <td>1.841853</td>\n",
       "      <td>...</td>\n",
       "      <td>23.045453</td>\n",
       "      <td>19.974047</td>\n",
       "      <td>291.492453</td>\n",
       "      <td>3.265339</td>\n",
       "      <td>0.805980</td>\n",
       "      <td>0.023079</td>\n",
       "      <td>4.0</td>\n",
       "      <td>9.0</td>\n",
       "      <td>11.0</td>\n",
       "      <td>22.00</td>\n",
       "    </tr>\n",
       "    <tr>\n",
       "      <th>7</th>\n",
       "      <td>[7, 5, 6, 4, 1, 4, 5, 3, 1, 2, 7, 4, 4, 7, 5, ...</td>\n",
       "      <td>13.955996</td>\n",
       "      <td>4.329807</td>\n",
       "      <td>4.0</td>\n",
       "      <td>3.875817</td>\n",
       "      <td>34.823375</td>\n",
       "      <td>15.021954</td>\n",
       "      <td>-0.192049</td>\n",
       "      <td>-0.003299</td>\n",
       "      <td>0.895148</td>\n",
       "      <td>...</td>\n",
       "      <td>15.267307</td>\n",
       "      <td>11.866582</td>\n",
       "      <td>97.499973</td>\n",
       "      <td>2.385152</td>\n",
       "      <td>0.703325</td>\n",
       "      <td>0.017789</td>\n",
       "      <td>4.0</td>\n",
       "      <td>8.0</td>\n",
       "      <td>9.0</td>\n",
       "      <td>16.00</td>\n",
       "    </tr>\n",
       "    <tr>\n",
       "      <th>8</th>\n",
       "      <td>[10, 15, 19, 7, 7, 1, -6, -3, -8, -8, 4, 13, 2...</td>\n",
       "      <td>1.604599</td>\n",
       "      <td>4.771827</td>\n",
       "      <td>5.0</td>\n",
       "      <td>7.635642</td>\n",
       "      <td>45.775166</td>\n",
       "      <td>58.303030</td>\n",
       "      <td>-26.911984</td>\n",
       "      <td>-0.060452</td>\n",
       "      <td>1.600151</td>\n",
       "      <td>...</td>\n",
       "      <td>31.227866</td>\n",
       "      <td>56.823556</td>\n",
       "      <td>1907.093275</td>\n",
       "      <td>4.452248</td>\n",
       "      <td>1.096706</td>\n",
       "      <td>0.038927</td>\n",
       "      <td>5.0</td>\n",
       "      <td>11.0</td>\n",
       "      <td>17.0</td>\n",
       "      <td>42.01</td>\n",
       "    </tr>\n",
       "    <tr>\n",
       "      <th>9</th>\n",
       "      <td>[6, 8, 6, 3, 5, 3, -2, 4, 5, 2, 3, 2, 4, 4, 3,...</td>\n",
       "      <td>8.125196</td>\n",
       "      <td>4.996893</td>\n",
       "      <td>5.0</td>\n",
       "      <td>6.065912</td>\n",
       "      <td>40.005736</td>\n",
       "      <td>36.795284</td>\n",
       "      <td>123.453785</td>\n",
       "      <td>0.553116</td>\n",
       "      <td>1.213937</td>\n",
       "      <td>...</td>\n",
       "      <td>5.023048</td>\n",
       "      <td>10.215210</td>\n",
       "      <td>38.839535</td>\n",
       "      <td>1.189606</td>\n",
       "      <td>0.594939</td>\n",
       "      <td>0.016505</td>\n",
       "      <td>4.0</td>\n",
       "      <td>7.0</td>\n",
       "      <td>10.0</td>\n",
       "      <td>15.00</td>\n",
       "    </tr>\n",
       "  </tbody>\n",
       "</table>\n",
       "<p>5 rows × 184 columns</p>\n",
       "</div>"
      ],
      "text/plain": [
       "                                            sequence        ttf      mean  \\\n",
       "5  [5, 5, 4, 7, 9, 7, 4, 2, 8, 7, 4, 4, -2, 2, 2,...   6.572898  4.471387   \n",
       "6  [3, 2, 4, 7, 5, 4, 4, 4, 5, 3, 2, 4, 2, 3, 6, ...   2.380298  4.646927   \n",
       "7  [7, 5, 6, 4, 1, 4, 5, 3, 1, 2, 7, 4, 4, 7, 5, ...  13.955996  4.329807   \n",
       "8  [10, 15, 19, 7, 7, 1, -6, -3, -8, -8, 4, 13, 2...   1.604599  4.771827   \n",
       "9  [6, 8, 6, 3, 5, 3, -2, 4, 5, 2, 3, 2, 4, 4, 3,...   8.125196  4.996893   \n",
       "\n",
       "   median       std    kurtosis         m2          m3      skew  variation  \\\n",
       "5     4.0  8.969663  130.742437  80.454848 -632.885586 -0.876995   2.006014   \n",
       "6     5.0  8.558958  215.763650  73.255759 -199.058574 -0.317481   1.841853   \n",
       "7     4.0  3.875817   34.823375  15.021954   -0.192049 -0.003299   0.895148   \n",
       "8     5.0  7.635642   45.775166  58.303030  -26.911984 -0.060452   1.600151   \n",
       "9     5.0  6.065912   40.005736  36.795284  123.453785  0.553116   1.213937   \n",
       "\n",
       "   ...  kurtosis_abs_4_4  m2_abs_4_4    m3_abs_4_4  skew_abs_4_4  \\\n",
       "5  ...         84.960700  175.640276  18503.650453      7.949160   \n",
       "6  ...         23.045453   19.974047    291.492453      3.265339   \n",
       "7  ...         15.267307   11.866582     97.499973      2.385152   \n",
       "8  ...         31.227866   56.823556   1907.093275      4.452248   \n",
       "9  ...          5.023048   10.215210     38.839535      1.189606   \n",
       "\n",
       "   variation_abs_4_4  sem_abs_4_4  iqr25_75_abs_4_4  iqr10_90_abs_4_4  \\\n",
       "5           1.874637     0.068439               4.0              10.0   \n",
       "6           0.805980     0.023079               4.0               9.0   \n",
       "7           0.703325     0.017789               4.0               8.0   \n",
       "8           1.096706     0.038927               5.0              11.0   \n",
       "9           0.594939     0.016505               4.0               7.0   \n",
       "\n",
       "   iqr5_95_abs_4_4  iqr1_99_abs_4_4  \n",
       "5             16.0            72.00  \n",
       "6             11.0            22.00  \n",
       "7              9.0            16.00  \n",
       "8             17.0            42.01  \n",
       "9             10.0            15.00  \n",
       "\n",
       "[5 rows x 184 columns]"
      ]
     },
     "execution_count": 23,
     "metadata": {},
     "output_type": "execute_result"
    }
   ],
   "source": [
    "random_samples.tail()"
   ]
  },
  {
   "cell_type": "markdown",
   "metadata": {},
   "source": [
    "# pickle samples"
   ]
  },
  {
   "cell_type": "code",
   "execution_count": null,
   "metadata": {},
   "outputs": [],
   "source": [
    "# %%time\n",
    "\n",
    "# with open('/notebooks/storage/earthquake/consecutive_samples.pickle','wb') as f:\n",
    "#     pickle.dump(consecutive_samples,f,pickle.HIGHEST_PROTOCOL)"
   ]
  },
  {
   "cell_type": "code",
   "execution_count": null,
   "metadata": {},
   "outputs": [],
   "source": [
    "consecutive_samples = None"
   ]
  },
  {
   "cell_type": "markdown",
   "metadata": {},
   "source": [
    "# load samples"
   ]
  },
  {
   "cell_type": "code",
   "execution_count": null,
   "metadata": {},
   "outputs": [],
   "source": [
    "%%time\n",
    "\n",
    "with open('/notebooks/storage/earthquake/consecutive_samples.pickle','rb') as f:\n",
    "    consecutive_samples = pickle.load(f)"
   ]
  },
  {
   "cell_type": "code",
   "execution_count": null,
   "metadata": {},
   "outputs": [],
   "source": [
    "consecutive_samples.tail()"
   ]
  },
  {
   "cell_type": "markdown",
   "metadata": {},
   "source": [
    "# visualize data"
   ]
  },
  {
   "cell_type": "code",
   "execution_count": 24,
   "metadata": {},
   "outputs": [
    {
     "data": {
      "text/plain": [
       "<matplotlib.axes._subplots.AxesSubplot at 0x7f8e1ff34240>"
      ]
     },
     "execution_count": 24,
     "metadata": {},
     "output_type": "execute_result"
    },
    {
     "data": {
      "image/png": "[encoded data removed]",
      "text/plain": [
       "<Figure size 432x288 with 1 Axes>"
      ]
     },
     "metadata": {
      "needs_background": "light"
     },
     "output_type": "display_data"
    }
   ],
   "source": [
    "random_samples.plot(x='iqr1_99_abs',y='ttf',kind='scatter',logx=True)"
   ]
  },
  {
   "cell_type": "code",
   "execution_count": 26,
   "metadata": {},
   "outputs": [
    {
     "data": {
      "text/plain": [
       "<matplotlib.axes._subplots.AxesSubplot at 0x7f8eae850b00>"
      ]
     },
     "execution_count": 26,
     "metadata": {},
     "output_type": "execute_result"
    },
    {
     "data": {
      "image/png": "[encoded data removed]",
      "text/plain": [
       "<Figure size 432x288 with 2 Axes>"
      ]
     },
     "metadata": {
      "needs_background": "light"
     },
     "output_type": "display_data"
    }
   ],
   "source": [
    "random_samples.plot.hexbin(x='mean',y='ttf',gridsize=10)"
   ]
  },
  {
   "cell_type": "code",
   "execution_count": null,
   "metadata": {},
   "outputs": [],
   "source": [
    "sns.kdeplot(consecutive_samples['ttf'],consecutive_samples['mean'])"
   ]
  },
  {
   "cell_type": "code",
   "execution_count": null,
   "metadata": {},
   "outputs": [],
   "source": [
    "sns.kdeplot(consecutive_samples.ttf)\n"
   ]
  },
  {
   "cell_type": "code",
   "execution_count": null,
   "metadata": {},
   "outputs": [],
   "source": [
    "sns.jointplot(x='iqr1_99_abs',y='ttf',data=consecutive_samples,kind='hex',gridsize=10)"
   ]
  },
  {
   "cell_type": "code",
   "execution_count": null,
   "metadata": {},
   "outputs": [],
   "source": [
    "sns.pairplot(consecutive_samples[['ttf','iqr1_99_abs','iqr5_95_abs','iqr10_90_abs']])"
   ]
  },
  {
   "cell_type": "code",
   "execution_count": null,
   "metadata": {},
   "outputs": [],
   "source": [
    "# look into plotly for interactive plots, and ggplot for grammar of graphics"
   ]
  },
  {
   "cell_type": "markdown",
   "metadata": {},
   "source": [
    "# split data into train/validation"
   ]
  },
  {
   "cell_type": "code",
   "execution_count": 27,
   "metadata": {},
   "outputs": [],
   "source": [
    "public_mean = 4.017 \n",
    "train_mean = 5.68\n",
    "mul_factor = public_mean/train_mean\n",
    "\n",
    "\n",
    "X = random_samples.drop(labels=['ttf','sequence'],axis=1)\n",
    "Y = random_samples['ttf']/mul_factor\n",
    "\n",
    "x_train, x_val, y_train, y_val = train_test_split(X,Y,test_size=.1,random_state=0,shuffle=False)"
   ]
  },
  {
   "cell_type": "code",
   "execution_count": 28,
   "metadata": {},
   "outputs": [
    {
     "data": {
      "text/plain": [
       "(1, 182)"
      ]
     },
     "execution_count": 28,
     "metadata": {},
     "output_type": "execute_result"
    }
   ],
   "source": [
    "x_val.shape"
   ]
  },
  {
   "cell_type": "markdown",
   "metadata": {},
   "source": [
    "# XGBoost"
   ]
  },
  {
   "cell_type": "code",
   "execution_count": 31,
   "metadata": {},
   "outputs": [
    {
     "name": "stdout",
     "output_type": "stream",
     "text": [
      "[21:25:46] WARNING: /workspace/src/objective/regression_obj.cu:152: reg:linear is now deprecated in favor of reg:squarederror.\n",
      "[0]\tvalidation_0-mae:10.983\n",
      "Will train until validation_0-mae hasn't improved in 5 rounds.\n",
      "[1]\tvalidation_0-mae:10.9772\n",
      "[2]\tvalidation_0-mae:10.9713\n",
      "[3]\tvalidation_0-mae:10.9655\n",
      "[4]\tvalidation_0-mae:10.9529\n",
      "[5]\tvalidation_0-mae:10.9472\n",
      "[6]\tvalidation_0-mae:10.9416\n",
      "[7]\tvalidation_0-mae:10.936\n",
      "[8]\tvalidation_0-mae:10.9305\n",
      "[9]\tvalidation_0-mae:10.9249\n",
      "[10]\tvalidation_0-mae:10.9195\n",
      "[11]\tvalidation_0-mae:10.9141\n",
      "[12]\tvalidation_0-mae:10.9087\n",
      "[13]\tvalidation_0-mae:10.9033\n",
      "[14]\tvalidation_0-mae:10.8915\n",
      "[15]\tvalidation_0-mae:10.8863\n",
      "[16]\tvalidation_0-mae:10.8811\n",
      "[17]\tvalidation_0-mae:10.8759\n",
      "[18]\tvalidation_0-mae:10.8708\n",
      "[19]\tvalidation_0-mae:10.8657\n",
      "[20]\tvalidation_0-mae:10.8607\n",
      "[21]\tvalidation_0-mae:10.8557\n",
      "[22]\tvalidation_0-mae:10.8519\n",
      "[23]\tvalidation_0-mae:10.847\n",
      "[24]\tvalidation_0-mae:10.8421\n",
      "[25]\tvalidation_0-mae:10.8372\n",
      "[26]\tvalidation_0-mae:10.8324\n",
      "[27]\tvalidation_0-mae:10.8216\n",
      "[28]\tvalidation_0-mae:10.8169\n",
      "[29]\tvalidation_0-mae:10.8122\n",
      "[30]\tvalidation_0-mae:10.8076\n",
      "[31]\tvalidation_0-mae:10.803\n",
      "[32]\tvalidation_0-mae:10.7984\n",
      "[33]\tvalidation_0-mae:10.7938\n",
      "[34]\tvalidation_0-mae:10.7893\n",
      "[35]\tvalidation_0-mae:10.786\n",
      "[36]\tvalidation_0-mae:10.7816\n",
      "[37]\tvalidation_0-mae:10.7772\n",
      "[38]\tvalidation_0-mae:10.7728\n",
      "[39]\tvalidation_0-mae:10.7685\n",
      "[40]\tvalidation_0-mae:10.7585\n",
      "[41]\tvalidation_0-mae:10.7543\n",
      "[42]\tvalidation_0-mae:10.7501\n",
      "[43]\tvalidation_0-mae:10.7459\n",
      "[44]\tvalidation_0-mae:10.7418\n",
      "[45]\tvalidation_0-mae:10.7376\n",
      "[46]\tvalidation_0-mae:10.7346\n",
      "[47]\tvalidation_0-mae:10.7306\n",
      "[48]\tvalidation_0-mae:10.7265\n",
      "[49]\tvalidation_0-mae:10.7226\n",
      "[50]\tvalidation_0-mae:10.7186\n",
      "[51]\tvalidation_0-mae:10.7147\n",
      "[52]\tvalidation_0-mae:10.7055\n",
      "[53]\tvalidation_0-mae:10.7017\n",
      "[54]\tvalidation_0-mae:10.6979\n",
      "[55]\tvalidation_0-mae:10.6941\n",
      "[56]\tvalidation_0-mae:10.6903\n",
      "[57]\tvalidation_0-mae:10.6866\n",
      "[58]\tvalidation_0-mae:10.6839\n",
      "[59]\tvalidation_0-mae:10.6802\n",
      "[60]\tvalidation_0-mae:10.6765\n",
      "[61]\tvalidation_0-mae:10.6729\n",
      "[62]\tvalidation_0-mae:10.6693\n",
      "[63]\tvalidation_0-mae:10.6609\n",
      "[64]\tvalidation_0-mae:10.6573\n",
      "[65]\tvalidation_0-mae:10.6539\n",
      "[66]\tvalidation_0-mae:10.6504\n",
      "[67]\tvalidation_0-mae:10.647\n",
      "[68]\tvalidation_0-mae:10.6435\n",
      "[69]\tvalidation_0-mae:10.6411\n",
      "[70]\tvalidation_0-mae:10.6377\n",
      "[71]\tvalidation_0-mae:10.6344\n",
      "[72]\tvalidation_0-mae:10.6311\n",
      "[73]\tvalidation_0-mae:10.6232\n",
      "[74]\tvalidation_0-mae:10.6199\n",
      "[75]\tvalidation_0-mae:10.6167\n",
      "[76]\tvalidation_0-mae:10.6135\n",
      "[77]\tvalidation_0-mae:10.6104\n",
      "[78]\tvalidation_0-mae:10.6073\n",
      "[79]\tvalidation_0-mae:10.6037\n",
      "[80]\tvalidation_0-mae:10.6003\n",
      "[81]\tvalidation_0-mae:10.598\n",
      "[82]\tvalidation_0-mae:10.5946\n",
      "[83]\tvalidation_0-mae:10.5912\n",
      "[84]\tvalidation_0-mae:10.5878\n",
      "[85]\tvalidation_0-mae:10.5845\n",
      "[86]\tvalidation_0-mae:10.5811\n",
      "[87]\tvalidation_0-mae:10.5782\n",
      "[88]\tvalidation_0-mae:10.5749\n",
      "[89]\tvalidation_0-mae:10.5716\n",
      "[90]\tvalidation_0-mae:10.5683\n",
      "[91]\tvalidation_0-mae:10.5651\n",
      "[92]\tvalidation_0-mae:10.5619\n",
      "[93]\tvalidation_0-mae:10.5587\n",
      "[94]\tvalidation_0-mae:10.5559\n",
      "[95]\tvalidation_0-mae:10.5539\n",
      "[96]\tvalidation_0-mae:10.5508\n",
      "[97]\tvalidation_0-mae:10.5477\n",
      "[98]\tvalidation_0-mae:10.5446\n",
      "[99]\tvalidation_0-mae:10.5415\n",
      "CPU times: user 265 ms, sys: 35.7 ms, total: 301 ms\n",
      "Wall time: 307 ms\n"
     ]
    }
   ],
   "source": [
    "%%time\n",
    "\n",
    "\n",
    "n_estimators = 10000\n",
    "learning_rate = .001\n",
    "n_jobs = 8\n",
    "\n",
    "early_stopping_rounds = 20\n",
    "eval_set = [(x_val,y_val)]\n",
    "verbose = True\n",
    "\n",
    "model_xgb = XGBRegressor(\n",
    "    n_estimators = n_estimators, \n",
    "    learning_rate = learning_rate, \n",
    "    n_job = n_jobs\n",
    ")\n",
    "\n",
    "model_xgb.fit(x_train,y_train,\n",
    "              early_stopping_rounds= early_stopping_rounds,\n",
    "              eval_set = eval_set,\n",
    "              eval_metric = 'mae',\n",
    "              verbose = verbose\n",
    "             )"
   ]
  },
  {
   "cell_type": "code",
   "execution_count": 32,
   "metadata": {},
   "outputs": [
    {
     "name": "stdout",
     "output_type": "stream",
     "text": [
      "mae : 10.541545790316661\n"
     ]
    }
   ],
   "source": [
    "from sklearn.metrics import mean_absolute_error\n",
    "\n",
    "predictions = model_xgb.predict(x_val)\n",
    "print('mae : '+str(mean_absolute_error(predictions,y_val)))"
   ]
  },
  {
   "cell_type": "markdown",
   "metadata": {},
   "source": [
    "# OVERWRITE pickle model"
   ]
  },
  {
   "cell_type": "code",
   "execution_count": 33,
   "metadata": {},
   "outputs": [
    {
     "name": "stdout",
     "output_type": "stream",
     "text": [
      "CPU times: user 613 µs, sys: 2.77 ms, total: 3.38 ms\n",
      "Wall time: 245 ms\n"
     ]
    }
   ],
   "source": [
    "%%time\n",
    "\n",
    "with open('/notebooks/storage/earthquake/model_xgb.pickle','wb') as f:\n",
    "    pickle.dump(model_xgb,f,pickle.HIGHEST_PROTOCOL)"
   ]
  },
  {
   "cell_type": "code",
   "execution_count": null,
   "metadata": {},
   "outputs": [],
   "source": [
    "model_xgb = None"
   ]
  },
  {
   "cell_type": "markdown",
   "metadata": {},
   "source": [
    "# LOAD pickled model"
   ]
  },
  {
   "cell_type": "code",
   "execution_count": 3,
   "metadata": {},
   "outputs": [
    {
     "name": "stdout",
     "output_type": "stream",
     "text": [
      "[23:36:46] WARNING: /workspace/src/objective/regression_obj.cu:152: reg:linear is now deprecated in favor of reg:squarederror.\n",
      "CPU times: user 5.44 ms, sys: 42.6 ms, total: 48.1 ms\n",
      "Wall time: 85.4 ms\n"
     ]
    }
   ],
   "source": [
    "%%time\n",
    "\n",
    "with open('/notebooks/storage/earthquake/model_xgb.pickle','rb') as f:\n",
    "    model_xgb = pickle.load(f)"
   ]
  },
  {
   "cell_type": "markdown",
   "metadata": {},
   "source": [
    "# create submission\n",
    "#### start with creating a dataframe identical in format to consecutive/random samples above"
   ]
  },
  {
   "cell_type": "code",
   "execution_count": 4,
   "metadata": {},
   "outputs": [
    {
     "name": "stdout",
     "output_type": "stream",
     "text": [
      "CPU times: user 29min 31s, sys: 34.8 s, total: 30min 6s\n",
      "Wall time: 30min 56s\n"
     ]
    }
   ],
   "source": [
    "%%time\n",
    "\n",
    "os.chdir('/notebooks/storage/earthquake/test')\n",
    "# os.remove(\"submission.csv\")\n",
    "test_samples = pd.DataFrame(columns=['sequence','ttf'])\n",
    "\n",
    "files = [x for x in os.listdir() if x[-4:] == '.csv']\n",
    "\n",
    "for i in range(len(files)):\n",
    "    \n",
    "    test_file = files[i]\n",
    "    \n",
    "    temp_df = pd.read_csv('./'+test_file,engine='python')\n",
    "        \n",
    "    test_samples.loc[i,'sequence'] = np.array(temp_df['acoustic_data'].values[:])"
   ]
  },
  {
   "cell_type": "code",
   "execution_count": 5,
   "metadata": {},
   "outputs": [
    {
     "data": {
      "text/html": [
       "<div>\n",
       "<style scoped>\n",
       "    .dataframe tbody tr th:only-of-type {\n",
       "        vertical-align: middle;\n",
       "    }\n",
       "\n",
       "    .dataframe tbody tr th {\n",
       "        vertical-align: top;\n",
       "    }\n",
       "\n",
       "    .dataframe thead th {\n",
       "        text-align: right;\n",
       "    }\n",
       "</style>\n",
       "<table border=\"1\" class=\"dataframe\">\n",
       "  <thead>\n",
       "    <tr style=\"text-align: right;\">\n",
       "      <th></th>\n",
       "      <th>sequence</th>\n",
       "      <th>ttf</th>\n",
       "    </tr>\n",
       "  </thead>\n",
       "  <tbody>\n",
       "    <tr>\n",
       "      <th>2619</th>\n",
       "      <td>[9, 4, 4, 5, 5, 0, 1, 0, 4, 9, 0, 4, 5, 2, 6, ...</td>\n",
       "      <td>NaN</td>\n",
       "    </tr>\n",
       "    <tr>\n",
       "      <th>2620</th>\n",
       "      <td>[9, 7, 6, 2, 2, 2, 6, 5, 3, 2, 1, 4, 5, 4, 6, ...</td>\n",
       "      <td>NaN</td>\n",
       "    </tr>\n",
       "    <tr>\n",
       "      <th>2621</th>\n",
       "      <td>[3, -3, -8, -9, -2, -3, 3, 9, 12, 13, 13, 17, ...</td>\n",
       "      <td>NaN</td>\n",
       "    </tr>\n",
       "    <tr>\n",
       "      <th>2622</th>\n",
       "      <td>[-1, -1, 2, 9, 6, 7, 6, 6, 2, 0, -1, 4, 2, -1,...</td>\n",
       "      <td>NaN</td>\n",
       "    </tr>\n",
       "    <tr>\n",
       "      <th>2623</th>\n",
       "      <td>[8, 4, 6, 5, 7, 10, 6, 5, 9, 2, 1, -1, 3, 2, 4...</td>\n",
       "      <td>NaN</td>\n",
       "    </tr>\n",
       "  </tbody>\n",
       "</table>\n",
       "</div>"
      ],
      "text/plain": [
       "                                               sequence  ttf\n",
       "2619  [9, 4, 4, 5, 5, 0, 1, 0, 4, 9, 0, 4, 5, 2, 6, ...  NaN\n",
       "2620  [9, 7, 6, 2, 2, 2, 6, 5, 3, 2, 1, 4, 5, 4, 6, ...  NaN\n",
       "2621  [3, -3, -8, -9, -2, -3, 3, 9, 12, 13, 13, 17, ...  NaN\n",
       "2622  [-1, -1, 2, 9, 6, 7, 6, 6, 2, 0, -1, 4, 2, -1,...  NaN\n",
       "2623  [8, 4, 6, 5, 7, 10, 6, 5, 9, 2, 1, -1, 3, 2, 4...  NaN"
      ]
     },
     "execution_count": 5,
     "metadata": {},
     "output_type": "execute_result"
    }
   ],
   "source": [
    "test_samples.tail()"
   ]
  },
  {
   "cell_type": "markdown",
   "metadata": {},
   "source": [
    "# OVERWRITE pickle test sample df"
   ]
  },
  {
   "cell_type": "code",
   "execution_count": 6,
   "metadata": {},
   "outputs": [
    {
     "name": "stdout",
     "output_type": "stream",
     "text": [
      "CPU times: user 1.48 s, sys: 5.77 s, total: 7.25 s\n",
      "Wall time: 44.3 s\n"
     ]
    }
   ],
   "source": [
    "# %%time\n",
    "\n",
    "# with open('/notebooks/storage/earthquake/test_samples.pickle','wb') as f:\n",
    "#     pickle.dump(test_samples,f,pickle.HIGHEST_PROTOCOL)"
   ]
  },
  {
   "cell_type": "code",
   "execution_count": null,
   "metadata": {},
   "outputs": [],
   "source": [
    "test_samples = None"
   ]
  },
  {
   "cell_type": "markdown",
   "metadata": {},
   "source": [
    "# LOAD pickled test sample df"
   ]
  },
  {
   "cell_type": "code",
   "execution_count": 34,
   "metadata": {},
   "outputs": [
    {
     "name": "stdout",
     "output_type": "stream",
     "text": [
      "CPU times: user 1.13 s, sys: 4.33 s, total: 5.45 s\n",
      "Wall time: 51.1 s\n"
     ]
    }
   ],
   "source": [
    "%%time\n",
    "\n",
    "with open('/notebooks/storage/earthquake/test_samples.pickle','rb') as f:\n",
    "    test_samples = pickle.load(f)"
   ]
  },
  {
   "cell_type": "markdown",
   "metadata": {},
   "source": [
    "# add features"
   ]
  },
  {
   "cell_type": "code",
   "execution_count": 9,
   "metadata": {},
   "outputs": [
    {
     "name": "stdout",
     "output_type": "stream",
     "text": [
      "CPU times: user 3 µs, sys: 0 ns, total: 3 µs\n",
      "Wall time: 7.39 µs\n"
     ]
    }
   ],
   "source": [
    "%time\n",
    "\n",
    "generateFullFeatures(test_samples)"
   ]
  },
  {
   "cell_type": "code",
   "execution_count": 10,
   "metadata": {},
   "outputs": [
    {
     "data": {
      "text/html": [
       "<div>\n",
       "<style scoped>\n",
       "    .dataframe tbody tr th:only-of-type {\n",
       "        vertical-align: middle;\n",
       "    }\n",
       "\n",
       "    .dataframe tbody tr th {\n",
       "        vertical-align: top;\n",
       "    }\n",
       "\n",
       "    .dataframe thead th {\n",
       "        text-align: right;\n",
       "    }\n",
       "</style>\n",
       "<table border=\"1\" class=\"dataframe\">\n",
       "  <thead>\n",
       "    <tr style=\"text-align: right;\">\n",
       "      <th></th>\n",
       "      <th>sequence</th>\n",
       "      <th>ttf</th>\n",
       "      <th>mean</th>\n",
       "      <th>median</th>\n",
       "      <th>std</th>\n",
       "      <th>kurtosis</th>\n",
       "      <th>m2</th>\n",
       "      <th>m3</th>\n",
       "      <th>skew</th>\n",
       "      <th>variation</th>\n",
       "      <th>...</th>\n",
       "      <th>kurtosis_abs_4_4</th>\n",
       "      <th>m2_abs_4_4</th>\n",
       "      <th>m3_abs_4_4</th>\n",
       "      <th>skew_abs_4_4</th>\n",
       "      <th>variation_abs_4_4</th>\n",
       "      <th>sem_abs_4_4</th>\n",
       "      <th>iqr25_75_abs_4_4</th>\n",
       "      <th>iqr10_90_abs_4_4</th>\n",
       "      <th>iqr5_95_abs_4_4</th>\n",
       "      <th>iqr1_99_abs_4_4</th>\n",
       "    </tr>\n",
       "  </thead>\n",
       "  <tbody>\n",
       "    <tr>\n",
       "      <th>2619</th>\n",
       "      <td>[9, 4, 4, 5, 5, 0, 1, 0, 4, 9, 0, 4, 5, 2, 6, ...</td>\n",
       "      <td>NaN</td>\n",
       "      <td>4.020207</td>\n",
       "      <td>4.0</td>\n",
       "      <td>6.166710</td>\n",
       "      <td>32.289924</td>\n",
       "      <td>38.028318</td>\n",
       "      <td>28.120282</td>\n",
       "      <td>0.119911</td>\n",
       "      <td>1.533929</td>\n",
       "      <td>...</td>\n",
       "      <td>10.412732</td>\n",
       "      <td>17.953910</td>\n",
       "      <td>174.051721</td>\n",
       "      <td>2.287914</td>\n",
       "      <td>0.820261</td>\n",
       "      <td>0.021881</td>\n",
       "      <td>5.0</td>\n",
       "      <td>9.0</td>\n",
       "      <td>12.0</td>\n",
       "      <td>21.0</td>\n",
       "    </tr>\n",
       "    <tr>\n",
       "      <th>2620</th>\n",
       "      <td>[9, 7, 6, 2, 2, 2, 6, 5, 3, 2, 1, 4, 5, 4, 6, ...</td>\n",
       "      <td>NaN</td>\n",
       "      <td>4.231927</td>\n",
       "      <td>4.0</td>\n",
       "      <td>4.519961</td>\n",
       "      <td>30.960803</td>\n",
       "      <td>20.430043</td>\n",
       "      <td>14.891836</td>\n",
       "      <td>0.161267</td>\n",
       "      <td>1.068062</td>\n",
       "      <td>...</td>\n",
       "      <td>10.542928</td>\n",
       "      <td>10.892157</td>\n",
       "      <td>71.076163</td>\n",
       "      <td>1.977212</td>\n",
       "      <td>0.695970</td>\n",
       "      <td>0.017043</td>\n",
       "      <td>4.0</td>\n",
       "      <td>7.0</td>\n",
       "      <td>9.0</td>\n",
       "      <td>15.0</td>\n",
       "    </tr>\n",
       "    <tr>\n",
       "      <th>2621</th>\n",
       "      <td>[3, -3, -8, -9, -2, -3, 3, 9, 12, 13, 13, 17, ...</td>\n",
       "      <td>NaN</td>\n",
       "      <td>4.284653</td>\n",
       "      <td>4.0</td>\n",
       "      <td>6.426391</td>\n",
       "      <td>45.338486</td>\n",
       "      <td>41.298506</td>\n",
       "      <td>-61.424123</td>\n",
       "      <td>-0.231439</td>\n",
       "      <td>1.499863</td>\n",
       "      <td>...</td>\n",
       "      <td>31.628445</td>\n",
       "      <td>32.708254</td>\n",
       "      <td>819.975421</td>\n",
       "      <td>4.383437</td>\n",
       "      <td>1.009892</td>\n",
       "      <td>0.029534</td>\n",
       "      <td>5.0</td>\n",
       "      <td>9.0</td>\n",
       "      <td>13.0</td>\n",
       "      <td>31.0</td>\n",
       "    </tr>\n",
       "    <tr>\n",
       "      <th>2622</th>\n",
       "      <td>[-1, -1, 2, 9, 6, 7, 6, 6, 2, 0, -1, 4, 2, -1,...</td>\n",
       "      <td>NaN</td>\n",
       "      <td>4.468120</td>\n",
       "      <td>4.0</td>\n",
       "      <td>4.639209</td>\n",
       "      <td>26.310138</td>\n",
       "      <td>21.522264</td>\n",
       "      <td>6.088492</td>\n",
       "      <td>0.060979</td>\n",
       "      <td>1.038291</td>\n",
       "      <td>...</td>\n",
       "      <td>9.008973</td>\n",
       "      <td>9.972887</td>\n",
       "      <td>50.164873</td>\n",
       "      <td>1.592826</td>\n",
       "      <td>0.658598</td>\n",
       "      <td>0.016308</td>\n",
       "      <td>4.0</td>\n",
       "      <td>8.0</td>\n",
       "      <td>9.0</td>\n",
       "      <td>14.0</td>\n",
       "    </tr>\n",
       "    <tr>\n",
       "      <th>2623</th>\n",
       "      <td>[8, 4, 6, 5, 7, 10, 6, 5, 9, 2, 1, -1, 3, 2, 4...</td>\n",
       "      <td>NaN</td>\n",
       "      <td>4.514920</td>\n",
       "      <td>5.0</td>\n",
       "      <td>5.768953</td>\n",
       "      <td>17.799390</td>\n",
       "      <td>33.280817</td>\n",
       "      <td>9.876277</td>\n",
       "      <td>0.051440</td>\n",
       "      <td>1.277753</td>\n",
       "      <td>...</td>\n",
       "      <td>10.417866</td>\n",
       "      <td>15.823663</td>\n",
       "      <td>138.687027</td>\n",
       "      <td>2.203308</td>\n",
       "      <td>0.752018</td>\n",
       "      <td>0.020542</td>\n",
       "      <td>4.0</td>\n",
       "      <td>9.0</td>\n",
       "      <td>11.0</td>\n",
       "      <td>20.0</td>\n",
       "    </tr>\n",
       "  </tbody>\n",
       "</table>\n",
       "<p>5 rows × 184 columns</p>\n",
       "</div>"
      ],
      "text/plain": [
       "                                               sequence  ttf      mean  \\\n",
       "2619  [9, 4, 4, 5, 5, 0, 1, 0, 4, 9, 0, 4, 5, 2, 6, ...  NaN  4.020207   \n",
       "2620  [9, 7, 6, 2, 2, 2, 6, 5, 3, 2, 1, 4, 5, 4, 6, ...  NaN  4.231927   \n",
       "2621  [3, -3, -8, -9, -2, -3, 3, 9, 12, 13, 13, 17, ...  NaN  4.284653   \n",
       "2622  [-1, -1, 2, 9, 6, 7, 6, 6, 2, 0, -1, 4, 2, -1,...  NaN  4.468120   \n",
       "2623  [8, 4, 6, 5, 7, 10, 6, 5, 9, 2, 1, -1, 3, 2, 4...  NaN  4.514920   \n",
       "\n",
       "      median       std   kurtosis         m2         m3      skew  variation  \\\n",
       "2619     4.0  6.166710  32.289924  38.028318  28.120282  0.119911   1.533929   \n",
       "2620     4.0  4.519961  30.960803  20.430043  14.891836  0.161267   1.068062   \n",
       "2621     4.0  6.426391  45.338486  41.298506 -61.424123 -0.231439   1.499863   \n",
       "2622     4.0  4.639209  26.310138  21.522264   6.088492  0.060979   1.038291   \n",
       "2623     5.0  5.768953  17.799390  33.280817   9.876277  0.051440   1.277753   \n",
       "\n",
       "      ...  kurtosis_abs_4_4  m2_abs_4_4  m3_abs_4_4  skew_abs_4_4  \\\n",
       "2619  ...         10.412732   17.953910  174.051721      2.287914   \n",
       "2620  ...         10.542928   10.892157   71.076163      1.977212   \n",
       "2621  ...         31.628445   32.708254  819.975421      4.383437   \n",
       "2622  ...          9.008973    9.972887   50.164873      1.592826   \n",
       "2623  ...         10.417866   15.823663  138.687027      2.203308   \n",
       "\n",
       "      variation_abs_4_4  sem_abs_4_4  iqr25_75_abs_4_4  iqr10_90_abs_4_4  \\\n",
       "2619           0.820261     0.021881               5.0               9.0   \n",
       "2620           0.695970     0.017043               4.0               7.0   \n",
       "2621           1.009892     0.029534               5.0               9.0   \n",
       "2622           0.658598     0.016308               4.0               8.0   \n",
       "2623           0.752018     0.020542               4.0               9.0   \n",
       "\n",
       "      iqr5_95_abs_4_4  iqr1_99_abs_4_4  \n",
       "2619             12.0             21.0  \n",
       "2620              9.0             15.0  \n",
       "2621             13.0             31.0  \n",
       "2622              9.0             14.0  \n",
       "2623             11.0             20.0  \n",
       "\n",
       "[5 rows x 184 columns]"
      ]
     },
     "execution_count": 10,
     "metadata": {},
     "output_type": "execute_result"
    }
   ],
   "source": [
    "test_samples.tail()"
   ]
  },
  {
   "cell_type": "markdown",
   "metadata": {},
   "source": [
    "# pickle engineered sample"
   ]
  },
  {
   "cell_type": "code",
   "execution_count": 11,
   "metadata": {},
   "outputs": [
    {
     "name": "stdout",
     "output_type": "stream",
     "text": [
      "CPU times: user 1.21 s, sys: 6.06 s, total: 7.27 s\n",
      "Wall time: 9min 44s\n"
     ]
    }
   ],
   "source": [
    "# %%time\n",
    "\n",
    "# with open('/notebooks/storage/earthquake/test_samples_eng.pickle','wb') as f:\n",
    "#     pickle.dump(test_samples,f,pickle.HIGHEST_PROTOCOL)"
   ]
  },
  {
   "cell_type": "code",
   "execution_count": 13,
   "metadata": {},
   "outputs": [],
   "source": [
    "test_samples = None"
   ]
  },
  {
   "cell_type": "markdown",
   "metadata": {},
   "source": [
    "# load pickled engineered sample"
   ]
  },
  {
   "cell_type": "code",
   "execution_count": 14,
   "metadata": {},
   "outputs": [
    {
     "name": "stdout",
     "output_type": "stream",
     "text": [
      "CPU times: user 844 ms, sys: 2.38 s, total: 3.23 s\n",
      "Wall time: 3.23 s\n"
     ]
    }
   ],
   "source": [
    "%%time\n",
    "\n",
    "with open('/notebooks/storage/earthquake/test_samples_eng.pickle','rb') as f:\n",
    "    test_samples_eng = pickle.load(f)"
   ]
  },
  {
   "cell_type": "code",
   "execution_count": 15,
   "metadata": {},
   "outputs": [
    {
     "data": {
      "text/plain": [
       "(2624, 184)"
      ]
     },
     "execution_count": 15,
     "metadata": {},
     "output_type": "execute_result"
    }
   ],
   "source": [
    "test_samples_eng.shape"
   ]
  },
  {
   "cell_type": "markdown",
   "metadata": {},
   "source": [
    "# make predictions/submit"
   ]
  },
  {
   "cell_type": "code",
   "execution_count": 16,
   "metadata": {},
   "outputs": [],
   "source": [
    "test_x = test_samples_eng.drop(columns=['sequence','ttf'])\n",
    "\n",
    "y_pred = model_xgb.predict(test_x)\n",
    "\n",
    "files = [x for x in os.listdir('/notebooks/storage/earthquake/test') if x[-4:] == '.csv']\n"
   ]
  },
  {
   "cell_type": "code",
   "execution_count": 17,
   "metadata": {},
   "outputs": [
    {
     "data": {
      "text/plain": [
       "(2624,)"
      ]
     },
     "execution_count": 17,
     "metadata": {},
     "output_type": "execute_result"
    }
   ],
   "source": [
    "y_pred.shape"
   ]
  },
  {
   "cell_type": "code",
   "execution_count": 18,
   "metadata": {},
   "outputs": [],
   "source": [
    "submission_df = pd.DataFrame(columns=['seg_id','time_to_failure'])"
   ]
  },
  {
   "cell_type": "code",
   "execution_count": 19,
   "metadata": {},
   "outputs": [
    {
     "data": {
      "text/plain": [
       "(2624, 2)"
      ]
     },
     "execution_count": 19,
     "metadata": {},
     "output_type": "execute_result"
    }
   ],
   "source": [
    "submission_df['seg_id'] = pd.Series([i[:-4] for i in files])\n",
    "submission_df.shape"
   ]
  },
  {
   "cell_type": "code",
   "execution_count": 20,
   "metadata": {},
   "outputs": [],
   "source": [
    "submission_df['time_to_failure'] = y_pred"
   ]
  },
  {
   "cell_type": "code",
   "execution_count": 22,
   "metadata": {},
   "outputs": [
    {
     "data": {
      "text/html": [
       "<div>\n",
       "<style scoped>\n",
       "    .dataframe tbody tr th:only-of-type {\n",
       "        vertical-align: middle;\n",
       "    }\n",
       "\n",
       "    .dataframe tbody tr th {\n",
       "        vertical-align: top;\n",
       "    }\n",
       "\n",
       "    .dataframe thead th {\n",
       "        text-align: right;\n",
       "    }\n",
       "</style>\n",
       "<table border=\"1\" class=\"dataframe\">\n",
       "  <thead>\n",
       "    <tr style=\"text-align: right;\">\n",
       "      <th></th>\n",
       "      <th>seg_id</th>\n",
       "      <th>time_to_failure</th>\n",
       "    </tr>\n",
       "  </thead>\n",
       "  <tbody>\n",
       "    <tr>\n",
       "      <th>2619</th>\n",
       "      <td>seg_20a990</td>\n",
       "      <td>4.170691</td>\n",
       "    </tr>\n",
       "    <tr>\n",
       "      <th>2620</th>\n",
       "      <td>seg_a88dde</td>\n",
       "      <td>9.223204</td>\n",
       "    </tr>\n",
       "    <tr>\n",
       "      <th>2621</th>\n",
       "      <td>seg_2ea616</td>\n",
       "      <td>4.928998</td>\n",
       "    </tr>\n",
       "    <tr>\n",
       "      <th>2622</th>\n",
       "      <td>seg_0d833c</td>\n",
       "      <td>7.336555</td>\n",
       "    </tr>\n",
       "    <tr>\n",
       "      <th>2623</th>\n",
       "      <td>seg_ceb942</td>\n",
       "      <td>2.881655</td>\n",
       "    </tr>\n",
       "  </tbody>\n",
       "</table>\n",
       "</div>"
      ],
      "text/plain": [
       "          seg_id  time_to_failure\n",
       "2619  seg_20a990         4.170691\n",
       "2620  seg_a88dde         9.223204\n",
       "2621  seg_2ea616         4.928998\n",
       "2622  seg_0d833c         7.336555\n",
       "2623  seg_ceb942         2.881655"
      ]
     },
     "execution_count": 22,
     "metadata": {},
     "output_type": "execute_result"
    }
   ],
   "source": [
    "submission_df.tail()"
   ]
  },
  {
   "cell_type": "code",
   "execution_count": null,
   "metadata": {},
   "outputs": [],
   "source": [
    "submission_df.to_csv('/notebooks/storage/earthquake/submission.csv',index=False)"
   ]
  }
 ],
 "metadata": {
  "kernelspec": {
   "display_name": "Python 3",
   "language": "python",
   "name": "python3"
  },
  "language_info": {
   "codemirror_mode": {
    "name": "ipython",
    "version": 3
   },
   "file_extension": ".py",
   "mimetype": "text/x-python",
   "name": "python",
   "nbconvert_exporter": "python",
   "pygments_lexer": "ipython3",
   "version": "3.6.7"
  }
 },
 "nbformat": 4,
 "nbformat_minor": 2
}
